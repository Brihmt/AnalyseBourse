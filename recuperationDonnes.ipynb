{
 "cells": [
  {
   "cell_type": "code",
   "execution_count": 4,
   "metadata": {},
   "outputs": [],
   "source": [
    "import pandas as pd\n",
    "import numpy as np\n",
    "data = pd.read_csv(\"data.csv\", index_col=\"Name\")\n",
    "\n",
    "# Créer une nouvelle fonction qui détermine si la valeur en paramètre est manquante:\n",
    "def num_missing(x):\n",
    "    return sum(x.isnull())\n",
    "\n"
   ]
  },
  {
   "cell_type": "code",
   "execution_count": 25,
   "metadata": {},
   "outputs": [
    {
     "name": "stdout",
     "output_type": "stream",
     "text": [
      "                 Open  Closing_Price  Daily_High Daily_Low Volume\n",
      "Name                                                             \n",
      "Accor             NaN          27.78         NaN       NaN    NaN\n",
      "Atos              NaN          23.10         NaN       NaN    NaN\n",
      "Bouygues          NaN          26.24         NaN       NaN    NaN\n",
      "Bouygues          NaN          24.96         NaN       NaN    NaN\n",
      "Bouygues          NaN          32.45         NaN       NaN    NaN\n",
      "...               ...            ...         ...       ...    ...\n",
      "Unibail-Rodamco   NaN         163.39         NaN       NaN    NaN\n",
      "Unibail-Rodamco   NaN         147.13         NaN       NaN    NaN\n",
      "Unibail-Rodamco   NaN         134.66         NaN       NaN    NaN\n",
      "Unibail-Rodamco   NaN         132.32         NaN       NaN    NaN\n",
      "Vivendi           NaN          19.68         NaN       NaN    NaN\n",
      "\n",
      "[204 rows x 5 columns]\n"
     ]
    }
   ],
   "source": [
    "\n",
    "null_columns=data.columns[data.isnull().any()]\n",
    "print(data[data[\"Daily_High\"].isnull()][null_columns])\n",
    "# print(pd.isnull(data[\"Daily_High\"]))\n",
    "# # On applique cette fonction pour chaque colonne:\n",
    "# print(\"Valeurs manquantes par colonne:\")\n",
    "# print(data.apply(num_missing, axis=0)) #axis=0 définit que la fonction sera bien appliquée sur chaque colonne\n",
    "\n",
    "# # Puis application pour chaque ligne:\n",
    "# print(\"\\nValeurs manquantes par ligne:\")\n",
    "# print(data.apply(num_missing, axis=1).head()) #axis=1 définit que la fonction sera bien appliquée sur chaque ligne"
   ]
  },
  {
   "cell_type": "code",
   "execution_count": null,
   "metadata": {},
   "outputs": [],
   "source": []
  }
 ],
 "metadata": {
  "kernelspec": {
   "display_name": "Python 3",
   "language": "python",
   "name": "python3"
  },
  "language_info": {
   "codemirror_mode": {
    "name": "ipython",
    "version": 3
   },
   "file_extension": ".py",
   "mimetype": "text/x-python",
   "name": "python",
   "nbconvert_exporter": "python",
   "pygments_lexer": "ipython3",
   "version": "3.8.5"
  }
 },
 "nbformat": 4,
 "nbformat_minor": 2
}
