{
 "cells": [
  {
   "cell_type": "markdown",
   "metadata": {},
   "source": [
    "# Import"
   ]
  },
  {
   "cell_type": "code",
   "execution_count": 1,
   "metadata": {
    "scrolled": true
   },
   "outputs": [],
   "source": [
    "import numpy as np\n",
    "from sklearn.datasets import make_regression\n",
    "import matplotlib.pyplot as plt\n",
    "import pandas as pd\n",
    "from random import randint as ran\n",
    "#Pour avoir l'auto complétion:\n",
    "%config IPCompleter.greedy=True  "
   ]
  },
  {
   "cell_type": "markdown",
   "metadata": {},
   "source": [
    "# Fonction"
   ]
  },
  {
   "cell_type": "code",
   "execution_count": 2,
   "metadata": {},
   "outputs": [],
   "source": [
    "#Permet de construire notre modèle\n",
    "def model(X, theta):\n",
    "    return X.dot(theta)"
   ]
  },
  {
   "cell_type": "code",
   "execution_count": 3,
   "metadata": {},
   "outputs": [],
   "source": [
    "#notre belle fonction coût\n",
    "def cost_function(X, y, theta):\n",
    "    m = len(y)\n",
    "    return 1/(2*m) * np.sum((model(X, theta) - y)**2)"
   ]
  },
  {
   "cell_type": "code",
   "execution_count": 4,
   "metadata": {},
   "outputs": [],
   "source": [
    "#Fonction de la descente de gradient\n",
    "def gradient_descent(X, y, theta, learning_rate, n_iterations):\n",
    "    \n",
    "    cost_history = np.zeros(n_iterations) # création d'un tableau de stockage pour enregistrer l'évolution du Cout du modele\n",
    "    \n",
    "    for i in range(0, n_iterations):\n",
    "        theta = theta - learning_rate * grad(X, y, theta) # mise a jour du parametre theta (formule du gradient descent)\n",
    "        cost_history[i] = cost_function(X, y, theta) # on enregistre la valeur du Cout au tour i dans cost_history[i]\n",
    "        \n",
    "    return theta, cost_history"
   ]
  },
  {
   "cell_type": "code",
   "execution_count": 5,
   "metadata": {},
   "outputs": [],
   "source": [
    "#Retourne le gradient au point X\n",
    "def grad(X, y, theta):\n",
    "    m = len(y)\n",
    "    return 1/m * X.T.dot(model(X, theta) - y)"
   ]
  },
  {
   "cell_type": "code",
   "execution_count": 6,
   "metadata": {},
   "outputs": [],
   "source": [
    "#Fonction qui calcule le coefficient de détermination\n",
    "def coef_determination(y, pred):\n",
    "    u = ((y - pred)**2).sum()\n",
    "    v = ((y - y.mean())**2).sum()\n",
    "    return 1 - u/v"
   ]
  },
  {
   "cell_type": "code",
   "execution_count": 7,
   "metadata": {},
   "outputs": [
    {
     "data": {
      "text/plain": [
       "<matplotlib.collections.PathCollection at 0x24fe9869b80>"
      ]
     },
     "execution_count": 7,
     "metadata": {},
     "output_type": "execute_result"
    },
    {
     "data": {
      "image/png": "[encoded data removed]",
      "text/plain": [
       "<Figure size 432x288 with 1 Axes>"
      ]
     },
     "metadata": {
      "needs_background": "light"
     },
     "output_type": "display_data"
    }
   ],
   "source": [
    "np.random.seed(1) # pour toujours reproduire le meme dataset\n",
    "x, y = make_regression(n_samples=500, n_features=1, noise=10)\n",
    "y=10*x**3+3*x**2-6*x-3\n",
    "\n",
    "plt.scatter(x, y) # afficher les résultats. X en abscisse et y en ordonnée"
   ]
  },
  {
   "cell_type": "code",
   "execution_count": 8,
   "metadata": {},
   "outputs": [
    {
     "name": "stdout",
     "output_type": "stream",
     "text": [
      "(500, 1)\n",
      "(500, 1)\n",
      "(500, 1)\n"
     ]
    }
   ],
   "source": [
    "print(x.shape)\n",
    "print(y.shape)\n",
    "\n",
    "# redimensionner y car sa taille est incomplète\n",
    "y = y.reshape(y.shape[0], 1)\n",
    "\n",
    "print(y.shape)"
   ]
  },
  {
   "cell_type": "code",
   "execution_count": 14,
   "metadata": {},
   "outputs": [
    {
     "name": "stdout",
     "output_type": "stream",
     "text": [
      "(500, 4)\n"
     ]
    }
   ],
   "source": [
    "#X = np.hstack((x, np.ones(x.shape)))#régression linéaire\n",
    "X = np.hstack((x**3,x**2,x, np.ones(x.shape)))#régression polynomiale\n",
    "print(X.shape)  #C'est juste que l'on créer le vecteur X de taille m*(n+1)"
   ]
  },
  {
   "cell_type": "code",
   "execution_count": 15,
   "metadata": {},
   "outputs": [
    {
     "data": {
      "text/plain": [
       "array([[ 1.62434536],\n",
       "       [-0.61175641],\n",
       "       [-0.52817175],\n",
       "       [-1.07296862]])"
      ]
     },
     "execution_count": 15,
     "metadata": {},
     "output_type": "execute_result"
    }
   ],
   "source": [
    "np.random.seed(1) # pour produire toujours le meme vecteur theta aléatoire\n",
    "#theta = np.random.randn(2, 1)#régression linéaire\n",
    "theta = np.random.randn(4, 1)#régression polynomiale\n",
    "theta\n"
   ]
  },
  {
   "cell_type": "code",
   "execution_count": 16,
   "metadata": {},
   "outputs": [
    {
     "data": {
      "text/plain": [
       "<matplotlib.collections.PathCollection at 0x24fec9e3f10>"
      ]
     },
     "execution_count": 16,
     "metadata": {},
     "output_type": "execute_result"
    },
    {
     "data": {
      "image/png": "[encoded data removed]",
      "text/plain": [
       "<Figure size 432x288 with 1 Axes>"
      ]
     },
     "metadata": {
      "needs_background": "light"
     },
     "output_type": "display_data"
    }
   ],
   "source": [
    "plt.scatter(x, y)\n",
    "plt.scatter(x, model(X, theta), c='r')"
   ]
  },
  {
   "cell_type": "code",
   "execution_count": 17,
   "metadata": {},
   "outputs": [
    {
     "data": {
      "text/plain": [
       "331.8994680532351"
      ]
     },
     "execution_count": 17,
     "metadata": {},
     "output_type": "execute_result"
    }
   ],
   "source": [
    "cost_function(X, y, theta)"
   ]
  },
  {
   "cell_type": "code",
   "execution_count": 22,
   "metadata": {},
   "outputs": [],
   "source": [
    "n_iterations = 1000\n",
    "learning_rate = 0.001\n",
    "\n",
    "\n",
    "theta_final, cost_history = gradient_descent(X, y, theta, learning_rate, n_iterations)"
   ]
  },
  {
   "cell_type": "code",
   "execution_count": 26,
   "metadata": {},
   "outputs": [
    {
     "data": {
      "text/plain": [
       "<matplotlib.collections.PathCollection at 0x24fecb54e50>"
      ]
     },
     "execution_count": 26,
     "metadata": {},
     "output_type": "execute_result"
    },
    {
     "data": {
      "image/png": "[encoded data removed]",
      "text/plain": [
       "<Figure size 432x288 with 1 Axes>"
      ]
     },
     "metadata": {
      "needs_background": "light"
     },
     "output_type": "display_data"
    }
   ],
   "source": [
    "# création d'un vecteur prédictions qui contient les prédictions de notre modele final\n",
    "predictions = model(X, theta_final)\n",
    "# Affiche les résultats de prédictions (en rouge) par rapport a notre Dataset (en bleu)\n",
    "plt.scatter(x, y)\n",
    "plt.scatter(x, predictions, c='r')"
   ]
  },
  {
   "cell_type": "code",
   "execution_count": 27,
   "metadata": {},
   "outputs": [
    {
     "data": {
      "text/plain": [
       "[<matplotlib.lines.Line2D at 0x24fec9689a0>]"
      ]
     },
     "execution_count": 27,
     "metadata": {},
     "output_type": "execute_result"
    },
    {
     "data": {
      "image/png": "[encoded data removed]",
      "text/plain": [
       "<Figure size 432x288 with 1 Axes>"
      ]
     },
     "metadata": {
      "needs_background": "light"
     },
     "output_type": "display_data"
    }
   ],
   "source": [
    "plt.plot(range(n_iterations), cost_history)"
   ]
  },
  {
   "cell_type": "code",
   "execution_count": 28,
   "metadata": {},
   "outputs": [
    {
     "data": {
      "text/plain": [
       "0.9884768597775107"
      ]
     },
     "execution_count": 28,
     "metadata": {},
     "output_type": "execute_result"
    }
   ],
   "source": [
    "coef_determination(y, predictions)"
   ]
  },
  {
   "cell_type": "code",
   "execution_count": 29,
   "metadata": {},
   "outputs": [
    {
     "data": {
      "text/plain": [
       "array([[ 8.78739807],\n",
       "       [ 2.08463761],\n",
       "       [-0.8421324 ],\n",
       "       [-1.42960491]])"
      ]
     },
     "execution_count": 29,
     "metadata": {},
     "output_type": "execute_result"
    }
   ],
   "source": [
    "theta_final"
   ]
  },
  {
   "cell_type": "markdown",
   "metadata": {},
   "source": [
    "# Analyse polynomiale"
   ]
  },
  {
   "cell_type": "code",
   "execution_count": 437,
   "metadata": {},
   "outputs": [],
   "source": [
    "#Permet de récupérer le dataset pour une année\n",
    "def recupData(dataset, nomEntreprise, annee):\n",
    "    dataset=dataset.dropna(axis=0)\n",
    "    test=dataset[dataset['Name'] == nomEntreprise]\n",
    "    return test.loc[annee]['Daily_High'].to_numpy()"
   ]
  },
  {
   "cell_type": "code",
   "execution_count": 438,
   "metadata": {},
   "outputs": [],
   "source": [
    "data=pd.read_csv('preprocessed_CAC40.csv',index_col='Date',parse_dates=True)"
   ]
  },
  {
   "cell_type": "code",
   "execution_count": 439,
   "metadata": {},
   "outputs": [
    {
     "name": "stdout",
     "output_type": "stream",
     "text": [
      "(109,)\n"
     ]
    }
   ],
   "source": [
    "test=recupData(data,'SAFRAN','2010')\n",
    "#test = test.reshape(test.shape[0], 1)\n",
    "print(test.shape)"
   ]
  },
  {
   "cell_type": "code",
   "execution_count": 442,
   "metadata": {},
   "outputs": [],
   "source": [
    "y=np.ones(test.shape)\n",
    "nb=len(y)\n",
    "\n",
    "for i in range(nb):\n",
    "    y[i]=i/nb\n",
    "    "
   ]
  },
  {
   "cell_type": "code",
   "execution_count": 443,
   "metadata": {},
   "outputs": [
    {
     "name": "stdout",
     "output_type": "stream",
     "text": [
      "(109,)\n"
     ]
    }
   ],
   "source": [
    "print(y.shape)"
   ]
  },
  {
   "cell_type": "code",
   "execution_count": 444,
   "metadata": {},
   "outputs": [
    {
     "data": {
      "text/plain": [
       "array([0.        , 0.00917431, 0.01834862, 0.02752294, 0.03669725,\n",
       "       0.04587156, 0.05504587, 0.06422018, 0.0733945 , 0.08256881,\n",
       "       0.09174312, 0.10091743, 0.11009174, 0.11926606, 0.12844037,\n",
       "       0.13761468, 0.14678899, 0.1559633 , 0.16513761, 0.17431193,\n",
       "       0.18348624, 0.19266055, 0.20183486, 0.21100917, 0.22018349,\n",
       "       0.2293578 , 0.23853211, 0.24770642, 0.25688073, 0.26605505,\n",
       "       0.27522936, 0.28440367, 0.29357798, 0.30275229, 0.31192661,\n",
       "       0.32110092, 0.33027523, 0.33944954, 0.34862385, 0.35779817,\n",
       "       0.36697248, 0.37614679, 0.3853211 , 0.39449541, 0.40366972,\n",
       "       0.41284404, 0.42201835, 0.43119266, 0.44036697, 0.44954128,\n",
       "       0.4587156 , 0.46788991, 0.47706422, 0.48623853, 0.49541284,\n",
       "       0.50458716, 0.51376147, 0.52293578, 0.53211009, 0.5412844 ,\n",
       "       0.55045872, 0.55963303, 0.56880734, 0.57798165, 0.58715596,\n",
       "       0.59633028, 0.60550459, 0.6146789 , 0.62385321, 0.63302752,\n",
       "       0.64220183, 0.65137615, 0.66055046, 0.66972477, 0.67889908,\n",
       "       0.68807339, 0.69724771, 0.70642202, 0.71559633, 0.72477064,\n",
       "       0.73394495, 0.74311927, 0.75229358, 0.76146789, 0.7706422 ,\n",
       "       0.77981651, 0.78899083, 0.79816514, 0.80733945, 0.81651376,\n",
       "       0.82568807, 0.83486239, 0.8440367 , 0.85321101, 0.86238532,\n",
       "       0.87155963, 0.88073394, 0.88990826, 0.89908257, 0.90825688,\n",
       "       0.91743119, 0.9266055 , 0.93577982, 0.94495413, 0.95412844,\n",
       "       0.96330275, 0.97247706, 0.98165138, 0.99082569])"
      ]
     },
     "execution_count": 444,
     "metadata": {},
     "output_type": "execute_result"
    }
   ],
   "source": [
    "y"
   ]
  },
  {
   "cell_type": "code",
   "execution_count": 445,
   "metadata": {},
   "outputs": [],
   "source": [
    "x = y.reshape(y.shape[0], 1)\n",
    "y = test.reshape(test.shape[0], 1)\n",
    "y=y/100"
   ]
  },
  {
   "cell_type": "code",
   "execution_count": 446,
   "metadata": {},
   "outputs": [
    {
     "name": "stdout",
     "output_type": "stream",
     "text": [
      "(109, 1)\n",
      "(109, 1)\n"
     ]
    }
   ],
   "source": [
    "print(x.shape)\n",
    "print(y.shape)"
   ]
  },
  {
   "cell_type": "code",
   "execution_count": 253,
   "metadata": {},
   "outputs": [
    {
     "data": {
      "text/plain": [
       "array([242.32247959, 241.66314416, 241.00582722, ...,   1.58938129,\n",
       "         1.5893804 ,   1.58937952])"
      ]
     },
     "execution_count": 253,
     "metadata": {},
     "output_type": "execute_result"
    }
   ],
   "source": [
    "cost_history\n"
   ]
  },
  {
   "cell_type": "code",
   "execution_count": 272,
   "metadata": {},
   "outputs": [
    {
     "data": {
      "text/plain": [
       "array([[0.00000000e+00, 0.00000000e+00, 0.00000000e+00, 0.00000000e+00,\n",
       "        1.00000000e+00],\n",
       "       [2.32830644e-10, 5.96046448e-08, 1.52587891e-05, 3.90625000e-03,\n",
       "        1.00000000e+00],\n",
       "       [3.72529030e-09, 4.76837158e-07, 6.10351562e-05, 7.81250000e-03,\n",
       "        1.00000000e+00],\n",
       "       ...,\n",
       "       [9.53942556e-01, 9.65254128e-01, 9.76699829e-01, 9.88281250e-01,\n",
       "        1.00000000e+00],\n",
       "       [9.69114307e-01, 9.76745129e-01, 9.84436035e-01, 9.92187500e-01,\n",
       "        1.00000000e+00],\n",
       "       [9.84466315e-01, 9.88326967e-01, 9.92202759e-01, 9.96093750e-01,\n",
       "        1.00000000e+00]])"
      ]
     },
     "execution_count": 272,
     "metadata": {},
     "output_type": "execute_result"
    }
   ],
   "source": [
    "X\n"
   ]
  },
  {
   "cell_type": "code",
   "execution_count": 273,
   "metadata": {},
   "outputs": [
    {
     "data": {
      "text/plain": [
       "array([[-2.96141245],\n",
       "       [-2.98329771],\n",
       "       [-1.55216838],\n",
       "       [-2.01699673],\n",
       "       [22.91228891]])"
      ]
     },
     "execution_count": 273,
     "metadata": {},
     "output_type": "execute_result"
    }
   ],
   "source": [
    "theta_final"
   ]
  },
  {
   "cell_type": "code",
   "execution_count": 292,
   "metadata": {},
   "outputs": [],
   "source": [
    "f=data.drop(['Open','Closing_Price','Volume'], axis=1)"
   ]
  },
  {
   "cell_type": "code",
   "execution_count": 293,
   "metadata": {},
   "outputs": [],
   "source": [
    "f=f[f['Name'] == 'SAFRAN']\n"
   ]
  },
  {
   "cell_type": "code",
   "execution_count": 302,
   "metadata": {},
   "outputs": [],
   "source": [
    "f=f['Daily_High'].to_numpy()"
   ]
  },
  {
   "cell_type": "code",
   "execution_count": 304,
   "metadata": {},
   "outputs": [
    {
     "data": {
      "text/plain": [
       "array([67.68, 70.56, 76.92, ..., 14.34, 14.57, 14.  ])"
      ]
     },
     "execution_count": 304,
     "metadata": {},
     "output_type": "execute_result"
    }
   ],
   "source": [
    "f"
   ]
  },
  {
   "cell_type": "code",
   "execution_count": 305,
   "metadata": {},
   "outputs": [
    {
     "data": {
      "text/plain": [
       "(2601,)"
      ]
     },
     "execution_count": 305,
     "metadata": {},
     "output_type": "execute_result"
    }
   ],
   "source": [
    "f.shape"
   ]
  },
  {
   "cell_type": "code",
   "execution_count": 325,
   "metadata": {},
   "outputs": [
    {
     "data": {
      "text/plain": [
       "array([[0.00000000e+00],\n",
       "       [3.84467512e-04],\n",
       "       [7.68935025e-04],\n",
       "       ...,\n",
       "       [9.98846597e-01],\n",
       "       [9.99231065e-01],\n",
       "       [9.99615532e-01]])"
      ]
     },
     "execution_count": 325,
     "metadata": {},
     "output_type": "execute_result"
    }
   ],
   "source": [
    "x"
   ]
  },
  {
   "cell_type": "code",
   "execution_count": 384,
   "metadata": {},
   "outputs": [
    {
     "data": {
      "text/plain": [
       "array([[-0.41830152],\n",
       "       [-0.41560732],\n",
       "       [-0.41294333],\n",
       "       [-0.41030937],\n",
       "       [-0.40770527],\n",
       "       [-0.40513085],\n",
       "       [-0.40258592],\n",
       "       [-0.40007031],\n",
       "       [-0.39758383],\n",
       "       [-0.3951263 ],\n",
       "       [-0.39269755],\n",
       "       [-0.39029738],\n",
       "       [-0.38792563],\n",
       "       [-0.3855821 ],\n",
       "       [-0.38326662],\n",
       "       [-0.380979  ],\n",
       "       [-0.37871905],\n",
       "       [-0.37648661],\n",
       "       [-0.37428147],\n",
       "       [-0.37210346],\n",
       "       [-0.3699524 ],\n",
       "       [-0.3678281 ],\n",
       "       [-0.36573038],\n",
       "       [-0.36365904],\n",
       "       [-0.36161391],\n",
       "       [-0.3595948 ],\n",
       "       [-0.35760153],\n",
       "       [-0.3556339 ],\n",
       "       [-0.35369174],\n",
       "       [-0.35177485],\n",
       "       [-0.34988305],\n",
       "       [-0.34801616],\n",
       "       [-0.34617397],\n",
       "       [-0.34435632],\n",
       "       [-0.342563  ],\n",
       "       [-0.34079383],\n",
       "       [-0.33904862],\n",
       "       [-0.33732719],\n",
       "       [-0.33562934],\n",
       "       [-0.33395489],\n",
       "       [-0.33230364],\n",
       "       [-0.3306754 ],\n",
       "       [-0.32906999],\n",
       "       [-0.32748721],\n",
       "       [-0.32592688],\n",
       "       [-0.3243888 ],\n",
       "       [-0.32287278],\n",
       "       [-0.32137863],\n",
       "       [-0.31990615],\n",
       "       [-0.31845516],\n",
       "       [-0.31702547],\n",
       "       [-0.31561687],\n",
       "       [-0.31422918],\n",
       "       [-0.3128622 ],\n",
       "       [-0.31151575],\n",
       "       [-0.31018961],\n",
       "       [-0.30888361],\n",
       "       [-0.30759755],\n",
       "       [-0.30633123],\n",
       "       [-0.30508446],\n",
       "       [-0.30385704],\n",
       "       [-0.30264877],\n",
       "       [-0.30145947],\n",
       "       [-0.30028893],\n",
       "       [-0.29913695],\n",
       "       [-0.29800335],\n",
       "       [-0.29688793],\n",
       "       [-0.29579048],\n",
       "       [-0.2947108 ],\n",
       "       [-0.29364871],\n",
       "       [-0.29260401],\n",
       "       [-0.29157649],\n",
       "       [-0.29056595],\n",
       "       [-0.2895722 ],\n",
       "       [-0.28859504],\n",
       "       [-0.28763427],\n",
       "       [-0.28668968],\n",
       "       [-0.28576109],\n",
       "       [-0.28484828],\n",
       "       [-0.28395106],\n",
       "       [-0.28306922],\n",
       "       [-0.28220257],\n",
       "       [-0.2813509 ],\n",
       "       [-0.28051402],\n",
       "       [-0.27969171],\n",
       "       [-0.27888378],\n",
       "       [-0.27809003],\n",
       "       [-0.27731024],\n",
       "       [-0.27654423],\n",
       "       [-0.27579178],\n",
       "       [-0.27505269],\n",
       "       [-0.27432675],\n",
       "       [-0.27361377],\n",
       "       [-0.27291354],\n",
       "       [-0.27222585],\n",
       "       [-0.27155049],\n",
       "       [-0.27088727],\n",
       "       [-0.27023598],\n",
       "       [-0.26959641],\n",
       "       [-0.26896835],\n",
       "       [-0.26835159],\n",
       "       [-0.26774594],\n",
       "       [-0.26715118],\n",
       "       [-0.26656711],\n",
       "       [-0.26599351],\n",
       "       [-0.26543019],\n",
       "       [-0.26487692],\n",
       "       [-0.26433351],\n",
       "       [-0.26379974],\n",
       "       [-0.26327541],\n",
       "       [-0.2627603 ],\n",
       "       [-0.26225421],\n",
       "       [-0.26175693],\n",
       "       [-0.26126824],\n",
       "       [-0.26078793],\n",
       "       [-0.2603158 ],\n",
       "       [-0.25985163],\n",
       "       [-0.25939522],\n",
       "       [-0.25894634],\n",
       "       [-0.25850479],\n",
       "       [-0.25807036],\n",
       "       [-0.25764283],\n",
       "       [-0.25722199],\n",
       "       [-0.25680762],\n",
       "       [-0.25639952],\n",
       "       [-0.25599747],\n",
       "       [-0.25560126],\n",
       "       [-0.25521066],\n",
       "       [-0.25482548],\n",
       "       [-0.25444548],\n",
       "       [-0.25407046],\n",
       "       [-0.25370021],\n",
       "       [-0.2533345 ],\n",
       "       [-0.25297312],\n",
       "       [-0.25261586],\n",
       "       [-0.25226249],\n",
       "       [-0.2519128 ],\n",
       "       [-0.25156658],\n",
       "       [-0.2512236 ],\n",
       "       [-0.25088365],\n",
       "       [-0.25054651],\n",
       "       [-0.25021196],\n",
       "       [-0.24987979],\n",
       "       [-0.24954977],\n",
       "       [-0.24922169],\n",
       "       [-0.24889533],\n",
       "       [-0.24857046],\n",
       "       [-0.24824687],\n",
       "       [-0.24792434],\n",
       "       [-0.24760264],\n",
       "       [-0.24728156],\n",
       "       [-0.24696087],\n",
       "       [-0.24664036],\n",
       "       [-0.2463198 ],\n",
       "       [-0.24599897],\n",
       "       [-0.24567764],\n",
       "       [-0.2453556 ],\n",
       "       [-0.24503263],\n",
       "       [-0.24470849],\n",
       "       [-0.24438297],\n",
       "       [-0.24405584],\n",
       "       [-0.24372688],\n",
       "       [-0.24339587],\n",
       "       [-0.24306258],\n",
       "       [-0.24272678],\n",
       "       [-0.24238825],\n",
       "       [-0.24204677],\n",
       "       [-0.24170211],\n",
       "       [-0.24135404],\n",
       "       [-0.24100234],\n",
       "       [-0.24064678],\n",
       "       [-0.24028713],\n",
       "       [-0.23992317],\n",
       "       [-0.23955468],\n",
       "       [-0.23918141],\n",
       "       [-0.23880315],\n",
       "       [-0.23841967],\n",
       "       [-0.23803074],\n",
       "       [-0.23763612],\n",
       "       [-0.2372356 ],\n",
       "       [-0.23682894],\n",
       "       [-0.23641591],\n",
       "       [-0.23599629],\n",
       "       [-0.23556983],\n",
       "       [-0.23513632],\n",
       "       [-0.23469552],\n",
       "       [-0.2342472 ],\n",
       "       [-0.23379113],\n",
       "       [-0.23332708],\n",
       "       [-0.23285481],\n",
       "       [-0.2323741 ],\n",
       "       [-0.23188471],\n",
       "       [-0.2313864 ],\n",
       "       [-0.23087896],\n",
       "       [-0.23036213],\n",
       "       [-0.2298357 ],\n",
       "       [-0.22929942],\n",
       "       [-0.22875307],\n",
       "       [-0.2281964 ],\n",
       "       [-0.22762918],\n",
       "       [-0.22705118],\n",
       "       [-0.22646216],\n",
       "       [-0.2258619 ],\n",
       "       [-0.22525014],\n",
       "       [-0.22462666],\n",
       "       [-0.22399121],\n",
       "       [-0.22334357],\n",
       "       [-0.2226835 ],\n",
       "       [-0.22201076],\n",
       "       [-0.2213251 ],\n",
       "       [-0.2206263 ],\n",
       "       [-0.21991412],\n",
       "       [-0.21918831],\n",
       "       [-0.21844864],\n",
       "       [-0.21769487],\n",
       "       [-0.21692676],\n",
       "       [-0.21614407],\n",
       "       [-0.21534657],\n",
       "       [-0.214534  ],\n",
       "       [-0.21370614],\n",
       "       [-0.21286274],\n",
       "       [-0.21200356],\n",
       "       [-0.21112836],\n",
       "       [-0.21023689],\n",
       "       [-0.20932892],\n",
       "       [-0.20840421],\n",
       "       [-0.2074625 ],\n",
       "       [-0.20650357],\n",
       "       [-0.20552716],\n",
       "       [-0.20453304],\n",
       "       [-0.20352096],\n",
       "       [-0.20249067],\n",
       "       [-0.20144193],\n",
       "       [-0.20037451],\n",
       "       [-0.19928814],\n",
       "       [-0.1981826 ],\n",
       "       [-0.19705763],\n",
       "       [-0.19591299],\n",
       "       [-0.19474843],\n",
       "       [-0.19356371],\n",
       "       [-0.19235858],\n",
       "       [-0.1911328 ],\n",
       "       [-0.18988611],\n",
       "       [-0.18861827],\n",
       "       [-0.18732904],\n",
       "       [-0.18601816],\n",
       "       [-0.18468539],\n",
       "       [-0.18333048],\n",
       "       [-0.18195319],\n",
       "       [-0.18055325],\n",
       "       [-0.17913043],\n",
       "       [-0.17768447],\n",
       "       [-0.17621513],\n",
       "       [-0.17472215],\n",
       "       [-0.17320529],\n",
       "       [-0.17166429]])"
      ]
     },
     "execution_count": 384,
     "metadata": {},
     "output_type": "execute_result"
    }
   ],
   "source": [
    "model(X, theta)"
   ]
  },
  {
   "cell_type": "code",
   "execution_count": 385,
   "metadata": {},
   "outputs": [
    {
     "data": {
      "text/plain": [
       "array([[0.08561202],\n",
       "       [0.08837343],\n",
       "       [0.09110293],\n",
       "       [0.09380067],\n",
       "       [0.09646682],\n",
       "       [0.09910153],\n",
       "       [0.10170493],\n",
       "       [0.1042772 ],\n",
       "       [0.10681848],\n",
       "       [0.10932892],\n",
       "       [0.11180867],\n",
       "       [0.1142579 ],\n",
       "       [0.11667674],\n",
       "       [0.11906535],\n",
       "       [0.12142388],\n",
       "       [0.12375249],\n",
       "       [0.12605132],\n",
       "       [0.12832052],\n",
       "       [0.13056026],\n",
       "       [0.13277067],\n",
       "       [0.13495191],\n",
       "       [0.13710412],\n",
       "       [0.13922747],\n",
       "       [0.14132209],\n",
       "       [0.14338815],\n",
       "       [0.14542578],\n",
       "       [0.14743515],\n",
       "       [0.14941639],\n",
       "       [0.15136966],\n",
       "       [0.15329511],\n",
       "       [0.15519289],\n",
       "       [0.15706314],\n",
       "       [0.15890602],\n",
       "       [0.16072168],\n",
       "       [0.16251026],\n",
       "       [0.16427191],\n",
       "       [0.16600678],\n",
       "       [0.16771502],\n",
       "       [0.16939678],\n",
       "       [0.1710522 ],\n",
       "       [0.17268144],\n",
       "       [0.17428464],\n",
       "       [0.17586195],\n",
       "       [0.17741351],\n",
       "       [0.17893948],\n",
       "       [0.18044   ],\n",
       "       [0.18191522],\n",
       "       [0.18336529],\n",
       "       [0.18479035],\n",
       "       [0.18619054],\n",
       "       [0.18756603],\n",
       "       [0.18891695],\n",
       "       [0.19024344],\n",
       "       [0.19154566],\n",
       "       [0.19282375],\n",
       "       [0.19407786],\n",
       "       [0.19530813],\n",
       "       [0.19651472],\n",
       "       [0.19769775],\n",
       "       [0.19885739],\n",
       "       [0.19999377],\n",
       "       [0.20110704],\n",
       "       [0.20219734],\n",
       "       [0.20326483],\n",
       "       [0.20430964],\n",
       "       [0.20533192],\n",
       "       [0.20633182],\n",
       "       [0.20730947],\n",
       "       [0.20826502],\n",
       "       [0.20919863],\n",
       "       [0.21011042],\n",
       "       [0.21100055],\n",
       "       [0.21186915],\n",
       "       [0.21271638],\n",
       "       [0.21354237],\n",
       "       [0.21434727],\n",
       "       [0.21513122],\n",
       "       [0.21589436],\n",
       "       [0.21663685],\n",
       "       [0.21735881],\n",
       "       [0.21806039],\n",
       "       [0.21874174],\n",
       "       [0.219403  ],\n",
       "       [0.2200443 ],\n",
       "       [0.2206658 ],\n",
       "       [0.22126763],\n",
       "       [0.22184994],\n",
       "       [0.22241286],\n",
       "       [0.22295654],\n",
       "       [0.22348112],\n",
       "       [0.22398674],\n",
       "       [0.22447355],\n",
       "       [0.22494167],\n",
       "       [0.22539126],\n",
       "       [0.22582246],\n",
       "       [0.2262354 ],\n",
       "       [0.22663022],\n",
       "       [0.22700707],\n",
       "       [0.22736609],\n",
       "       [0.22770741],\n",
       "       [0.22803118],\n",
       "       [0.22833753],\n",
       "       [0.22862661],\n",
       "       [0.22889855],\n",
       "       [0.2291535 ],\n",
       "       [0.22939159],\n",
       "       [0.22961296],\n",
       "       [0.22981776],\n",
       "       [0.23000611],\n",
       "       [0.23017816],\n",
       "       [0.23033405],\n",
       "       [0.23047391],\n",
       "       [0.23059789],\n",
       "       [0.23070612],\n",
       "       [0.23079874],\n",
       "       [0.23087589],\n",
       "       [0.2309377 ],\n",
       "       [0.23098431],\n",
       "       [0.23101587],\n",
       "       [0.2310325 ],\n",
       "       [0.23103435],\n",
       "       [0.23102155],\n",
       "       [0.23099424],\n",
       "       [0.23095256],\n",
       "       [0.23089663],\n",
       "       [0.23082661],\n",
       "       [0.23074262],\n",
       "       [0.2306448 ],\n",
       "       [0.23053329],\n",
       "       [0.23040822],\n",
       "       [0.23026973],\n",
       "       [0.23011796],\n",
       "       [0.22995304],\n",
       "       [0.2297751 ],\n",
       "       [0.22958429],\n",
       "       [0.22938073],\n",
       "       [0.22916456],\n",
       "       [0.22893592],\n",
       "       [0.22869493],\n",
       "       [0.22844175],\n",
       "       [0.22817649],\n",
       "       [0.2278993 ],\n",
       "       [0.22761031],\n",
       "       [0.22730965],\n",
       "       [0.22699745],\n",
       "       [0.22667386],\n",
       "       [0.226339  ],\n",
       "       [0.22599301],\n",
       "       [0.22563602],\n",
       "       [0.22526816],\n",
       "       [0.22488957],\n",
       "       [0.22450038],\n",
       "       [0.22410072],\n",
       "       [0.22369073],\n",
       "       [0.22327054],\n",
       "       [0.22284027],\n",
       "       [0.22240007],\n",
       "       [0.22195007],\n",
       "       [0.22149039],\n",
       "       [0.22102117],\n",
       "       [0.22054255],\n",
       "       [0.22005464],\n",
       "       [0.21955759],\n",
       "       [0.21905153],\n",
       "       [0.21853658],\n",
       "       [0.21801288],\n",
       "       [0.21748056],\n",
       "       [0.21693974],\n",
       "       [0.21639057],\n",
       "       [0.21583317],\n",
       "       [0.21526767],\n",
       "       [0.2146942 ],\n",
       "       [0.21411289],\n",
       "       [0.21352388],\n",
       "       [0.21292728],\n",
       "       [0.21232324],\n",
       "       [0.21171188],\n",
       "       [0.21109332],\n",
       "       [0.21046771],\n",
       "       [0.20983516],\n",
       "       [0.20919582],\n",
       "       [0.2085498 ],\n",
       "       [0.20789723],\n",
       "       [0.20723825],\n",
       "       [0.20657299],\n",
       "       [0.20590156],\n",
       "       [0.2052241 ],\n",
       "       [0.20454074],\n",
       "       [0.20385161],\n",
       "       [0.20315682],\n",
       "       [0.20245652],\n",
       "       [0.20175083],\n",
       "       [0.20103988],\n",
       "       [0.20032378],\n",
       "       [0.19960268],\n",
       "       [0.1988767 ],\n",
       "       [0.19814595],\n",
       "       [0.19741058],\n",
       "       [0.19667071],\n",
       "       [0.19592646],\n",
       "       [0.19517797],\n",
       "       [0.19442535],\n",
       "       [0.19366873],\n",
       "       [0.19290824],\n",
       "       [0.19214401],\n",
       "       [0.19137615],\n",
       "       [0.1906048 ],\n",
       "       [0.18983009],\n",
       "       [0.18905213],\n",
       "       [0.18827105],\n",
       "       [0.18748697],\n",
       "       [0.18670003],\n",
       "       [0.18591035],\n",
       "       [0.18511804],\n",
       "       [0.18432325],\n",
       "       [0.18352608],\n",
       "       [0.18272666],\n",
       "       [0.18192513],\n",
       "       [0.18112159],\n",
       "       [0.18031618],\n",
       "       [0.17950902],\n",
       "       [0.17870023],\n",
       "       [0.17788994],\n",
       "       [0.17707827],\n",
       "       [0.17626534],\n",
       "       [0.17545127],\n",
       "       [0.17463619],\n",
       "       [0.17382023],\n",
       "       [0.1730035 ],\n",
       "       [0.17218612],\n",
       "       [0.17136822],\n",
       "       [0.17054992],\n",
       "       [0.16973135],\n",
       "       [0.16891262],\n",
       "       [0.16809385],\n",
       "       [0.16727518],\n",
       "       [0.16645671],\n",
       "       [0.16563857],\n",
       "       [0.16482089],\n",
       "       [0.16400377],\n",
       "       [0.16318735],\n",
       "       [0.16237175],\n",
       "       [0.16155708],\n",
       "       [0.16074347],\n",
       "       [0.15993103],\n",
       "       [0.15911989],\n",
       "       [0.15831016],\n",
       "       [0.15750198],\n",
       "       [0.15669545],\n",
       "       [0.15589069],\n",
       "       [0.15508783],\n",
       "       [0.15428699],\n",
       "       [0.15348828],\n",
       "       [0.15269182],\n",
       "       [0.15189774],\n",
       "       [0.15110615]])"
      ]
     },
     "execution_count": 385,
     "metadata": {},
     "output_type": "execute_result"
    }
   ],
   "source": [
    "model(X, theta_final)"
   ]
  },
  {
   "cell_type": "code",
   "execution_count": 400,
   "metadata": {},
   "outputs": [
    {
     "data": {
      "text/plain": [
       "array([[0.55054075],\n",
       "       [0.54718637],\n",
       "       [0.54382097],\n",
       "       [0.54044441],\n",
       "       [0.53705652],\n",
       "       [0.53365715],\n",
       "       [0.53024616],\n",
       "       [0.52682342],\n",
       "       [0.52338881],\n",
       "       [0.51994222],\n",
       "       [0.51648355],\n",
       "       [0.5130127 ],\n",
       "       [0.50952959],\n",
       "       [0.50603415],\n",
       "       [0.5025263 ],\n",
       "       [0.499006  ],\n",
       "       [0.49547319],\n",
       "       [0.49192785],\n",
       "       [0.48836994],\n",
       "       [0.48479945],\n",
       "       [0.48121636],\n",
       "       [0.47762069],\n",
       "       [0.47401242],\n",
       "       [0.4703916 ],\n",
       "       [0.46675824],\n",
       "       [0.46311238],\n",
       "       [0.45945407],\n",
       "       [0.45578337],\n",
       "       [0.45210034],\n",
       "       [0.44840505],\n",
       "       [0.4446976 ],\n",
       "       [0.44097808],\n",
       "       [0.43724659],\n",
       "       [0.43350324],\n",
       "       [0.42974815],\n",
       "       [0.42598146],\n",
       "       [0.42220331],\n",
       "       [0.41841384],\n",
       "       [0.41461322],\n",
       "       [0.41080162],\n",
       "       [0.40697921],\n",
       "       [0.40314618],\n",
       "       [0.39930273],\n",
       "       [0.39544906],\n",
       "       [0.3915854 ],\n",
       "       [0.38771196],\n",
       "       [0.38382897],\n",
       "       [0.37993669],\n",
       "       [0.37603537],\n",
       "       [0.37212526],\n",
       "       [0.36820665],\n",
       "       [0.36427981],\n",
       "       [0.36034502],\n",
       "       [0.3564026 ],\n",
       "       [0.35245285],\n",
       "       [0.34849609],\n",
       "       [0.34453265],\n",
       "       [0.34056286],\n",
       "       [0.33658707],\n",
       "       [0.33260563],\n",
       "       [0.32861892],\n",
       "       [0.32462731],\n",
       "       [0.32063117],\n",
       "       [0.31663091],\n",
       "       [0.31262693],\n",
       "       [0.30861963],\n",
       "       [0.30460945],\n",
       "       [0.3005968 ],\n",
       "       [0.29658214],\n",
       "       [0.2925659 ],\n",
       "       [0.28854856],\n",
       "       [0.28453057],\n",
       "       [0.28051241],\n",
       "       [0.27649458],\n",
       "       [0.27247756],\n",
       "       [0.26846187],\n",
       "       [0.26444802],\n",
       "       [0.26043652],\n",
       "       [0.25642793],\n",
       "       [0.25242277],\n",
       "       [0.2484216 ],\n",
       "       [0.24442499],\n",
       "       [0.2404335 ],\n",
       "       [0.23644772],\n",
       "       [0.23246822],\n",
       "       [0.22849563],\n",
       "       [0.22453053],\n",
       "       [0.22057355],\n",
       "       [0.21662532],\n",
       "       [0.21268647],\n",
       "       [0.20875765],\n",
       "       [0.20483952],\n",
       "       [0.20093273],\n",
       "       [0.19703797],\n",
       "       [0.19315591],\n",
       "       [0.18928725],\n",
       "       [0.18543269],\n",
       "       [0.18159294],\n",
       "       [0.17776872],\n",
       "       [0.17396077],\n",
       "       [0.17016982],\n",
       "       [0.16639661],\n",
       "       [0.16264192],\n",
       "       [0.1589065 ],\n",
       "       [0.15519114],\n",
       "       [0.15149661],\n",
       "       [0.14782372],\n",
       "       [0.14417327],\n",
       "       [0.14054607],\n",
       "       [0.13694295],\n",
       "       [0.13336474],\n",
       "       [0.12981228],\n",
       "       [0.12628642],\n",
       "       [0.12278803],\n",
       "       [0.11931797],\n",
       "       [0.11587713],\n",
       "       [0.11246639],\n",
       "       [0.10908666],\n",
       "       [0.10573883],\n",
       "       [0.10242383],\n",
       "       [0.09914259],\n",
       "       [0.09589603],\n",
       "       [0.09268511],\n",
       "       [0.08951078],\n",
       "       [0.08637399],\n",
       "       [0.08327574],\n",
       "       [0.08021699],\n",
       "       [0.07719875],\n",
       "       [0.074222  ],\n",
       "       [0.07128777],\n",
       "       [0.06839707],\n",
       "       [0.06555093],\n",
       "       [0.06275039],\n",
       "       [0.0599965 ],\n",
       "       [0.05729031],\n",
       "       [0.0546329 ],\n",
       "       [0.05202534],\n",
       "       [0.04946871],\n",
       "       [0.0469641 ],\n",
       "       [0.04451263],\n",
       "       [0.04211541],\n",
       "       [0.03977355],\n",
       "       [0.0374882 ],\n",
       "       [0.03526049],\n",
       "       [0.03309157],\n",
       "       [0.03098261],\n",
       "       [0.02893477],\n",
       "       [0.02694924],\n",
       "       [0.02502719],\n",
       "       [0.02316983],\n",
       "       [0.02137837],\n",
       "       [0.01965402],\n",
       "       [0.01799801],\n",
       "       [0.01641157],\n",
       "       [0.01489595],\n",
       "       [0.01345239],\n",
       "       [0.01208218],\n",
       "       [0.01078657],\n",
       "       [0.00956684],\n",
       "       [0.0084243 ],\n",
       "       [0.00736024],\n",
       "       [0.00637596],\n",
       "       [0.0054728 ],\n",
       "       [0.00465208],\n",
       "       [0.00391513],\n",
       "       [0.0032633 ],\n",
       "       [0.00269795],\n",
       "       [0.00222045],\n",
       "       [0.00183218],\n",
       "       [0.0015345 ],\n",
       "       [0.00132883],\n",
       "       [0.00121656],\n",
       "       [0.00119911],\n",
       "       [0.00127789],\n",
       "       [0.00145435],\n",
       "       [0.00172991],\n",
       "       [0.00210604],\n",
       "       [0.00258419],\n",
       "       [0.00316583],\n",
       "       [0.00385243],\n",
       "       [0.00464549],\n",
       "       [0.00554651],\n",
       "       [0.00655698],\n",
       "       [0.00767842],\n",
       "       [0.00891237],\n",
       "       [0.01026035],\n",
       "       [0.0117239 ],\n",
       "       [0.01330459],\n",
       "       [0.01500397],\n",
       "       [0.01682361],\n",
       "       [0.0187651 ],\n",
       "       [0.02083003],\n",
       "       [0.02301999],\n",
       "       [0.0253366 ],\n",
       "       [0.02778147],\n",
       "       [0.03035623],\n",
       "       [0.03306252],\n",
       "       [0.03590199],\n",
       "       [0.03887629],\n",
       "       [0.04198709],\n",
       "       [0.04523606],\n",
       "       [0.04862488],\n",
       "       [0.05215526],\n",
       "       [0.05582888],\n",
       "       [0.05964747],\n",
       "       [0.06361274],\n",
       "       [0.06772643],\n",
       "       [0.07199028],\n",
       "       [0.07640603],\n",
       "       [0.08097545],\n",
       "       [0.0857003 ],\n",
       "       [0.09058236],\n",
       "       [0.09562342],\n",
       "       [0.10082527],\n",
       "       [0.10618971],\n",
       "       [0.11171858],\n",
       "       [0.11741368],\n",
       "       [0.12327685],\n",
       "       [0.12930994],\n",
       "       [0.1355148 ],\n",
       "       [0.14189328],\n",
       "       [0.14844727],\n",
       "       [0.15517864],\n",
       "       [0.16208927],\n",
       "       [0.16918108],\n",
       "       [0.17645596],\n",
       "       [0.18391584],\n",
       "       [0.19156265],\n",
       "       [0.19939831],\n",
       "       [0.20742478],\n",
       "       [0.215644  ],\n",
       "       [0.22405796],\n",
       "       [0.23266861],\n",
       "       [0.24147795],\n",
       "       [0.25048796],\n",
       "       [0.25970065],\n",
       "       [0.26911803],\n",
       "       [0.27874212],\n",
       "       [0.28857494],\n",
       "       [0.29861855],\n",
       "       [0.30887498],\n",
       "       [0.3193463 ],\n",
       "       [0.33003457],\n",
       "       [0.34094188],\n",
       "       [0.3520703 ],\n",
       "       [0.36342193],\n",
       "       [0.37499888],\n",
       "       [0.38680326],\n",
       "       [0.39883719],\n",
       "       [0.41110281],\n",
       "       [0.42360226],\n",
       "       [0.4363377 ],\n",
       "       [0.44931127],\n",
       "       [0.46252516],\n",
       "       [0.47598155],\n",
       "       [0.48968261]])"
      ]
     },
     "execution_count": 400,
     "metadata": {},
     "output_type": "execute_result"
    }
   ],
   "source": [
    "predictions"
   ]
  },
  {
   "cell_type": "code",
   "execution_count": null,
   "metadata": {},
   "outputs": [],
   "source": []
  }
 ],
 "metadata": {
  "kernelspec": {
   "display_name": "Python 3",
   "language": "python",
   "name": "python3"
  },
  "language_info": {
   "codemirror_mode": {
    "name": "ipython",
    "version": 3
   },
   "file_extension": ".py",
   "mimetype": "text/x-python",
   "name": "python",
   "nbconvert_exporter": "python",
   "pygments_lexer": "ipython3",
   "version": "3.8.5"
  }
 },
 "nbformat": 4,
 "nbformat_minor": 4
}
