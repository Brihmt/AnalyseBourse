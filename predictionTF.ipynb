{
 "metadata": {
  "language_info": {
   "codemirror_mode": {
    "name": "ipython",
    "version": 3
   },
   "file_extension": ".py",
   "mimetype": "text/x-python",
   "name": "python",
   "nbconvert_exporter": "python",
   "pygments_lexer": "ipython3",
   "version": "3.8.5-final"
  },
  "orig_nbformat": 2,
  "kernelspec": {
   "name": "python3",
   "display_name": "Python 3",
   "language": "python"
  }
 },
 "nbformat": 4,
 "nbformat_minor": 2,
 "cells": [
  {
   "cell_type": "code",
   "execution_count": 97,
   "metadata": {},
   "outputs": [],
   "source": [
    "import numpy as np\n",
    "import sklearn as skl\n",
    "from sklearn.datasets import make_regression\n",
    "from sklearn.preprocessing import MinMaxScaler\n",
    "import matplotlib.pyplot as plt\n",
    "import pandas as pd\n",
    "import seaborn as sns\n",
    "import tensorflow as tf"
   ]
  },
  {
   "cell_type": "code",
   "execution_count": 98,
   "metadata": {},
   "outputs": [],
   "source": [
    "#lire notre banque de données en mettant la date en index\n",
    "data=pd.read_csv('preprocessed_CAC40.csv',index_col='Date',parse_dates=True)"
   ]
  },
  {
   "cell_type": "code",
   "execution_count": 99,
   "metadata": {},
   "outputs": [
    {
     "output_type": "execute_result",
     "data": {
      "text/plain": [
       "            Unnamed: 0   Name   Open  Closing_Price  Daily_High Daily_Low  \\\n",
       "Date                                                                        \n",
       "2020-04-03           0  Accor  22.99          23.40       23.40     22.99   \n",
       "2020-04-02           1  Accor  23.91          22.99       23.91     22.99   \n",
       "2020-04-01           2  Accor  24.10          23.83       24.10     23.83   \n",
       "2020-03-31           3  Accor  25.04          25.00       25.24     24.99   \n",
       "2020-03-30           4  Accor  26.50          25.02       26.50     24.99   \n",
       "\n",
       "           Volume  \n",
       "Date               \n",
       "2020-04-03     67  \n",
       "2020-04-02    250  \n",
       "2020-04-01     37  \n",
       "2020-03-31    336  \n",
       "2020-03-30    415  "
      ],
      "text/html": "<div>\n<style scoped>\n    .dataframe tbody tr th:only-of-type {\n        vertical-align: middle;\n    }\n\n    .dataframe tbody tr th {\n        vertical-align: top;\n    }\n\n    .dataframe thead th {\n        text-align: right;\n    }\n</style>\n<table border=\"1\" class=\"dataframe\">\n  <thead>\n    <tr style=\"text-align: right;\">\n      <th></th>\n      <th>Unnamed: 0</th>\n      <th>Name</th>\n      <th>Open</th>\n      <th>Closing_Price</th>\n      <th>Daily_High</th>\n      <th>Daily_Low</th>\n      <th>Volume</th>\n    </tr>\n    <tr>\n      <th>Date</th>\n      <th></th>\n      <th></th>\n      <th></th>\n      <th></th>\n      <th></th>\n      <th></th>\n      <th></th>\n    </tr>\n  </thead>\n  <tbody>\n    <tr>\n      <th>2020-04-03</th>\n      <td>0</td>\n      <td>Accor</td>\n      <td>22.99</td>\n      <td>23.40</td>\n      <td>23.40</td>\n      <td>22.99</td>\n      <td>67</td>\n    </tr>\n    <tr>\n      <th>2020-04-02</th>\n      <td>1</td>\n      <td>Accor</td>\n      <td>23.91</td>\n      <td>22.99</td>\n      <td>23.91</td>\n      <td>22.99</td>\n      <td>250</td>\n    </tr>\n    <tr>\n      <th>2020-04-01</th>\n      <td>2</td>\n      <td>Accor</td>\n      <td>24.10</td>\n      <td>23.83</td>\n      <td>24.10</td>\n      <td>23.83</td>\n      <td>37</td>\n    </tr>\n    <tr>\n      <th>2020-03-31</th>\n      <td>3</td>\n      <td>Accor</td>\n      <td>25.04</td>\n      <td>25.00</td>\n      <td>25.24</td>\n      <td>24.99</td>\n      <td>336</td>\n    </tr>\n    <tr>\n      <th>2020-03-30</th>\n      <td>4</td>\n      <td>Accor</td>\n      <td>26.50</td>\n      <td>25.02</td>\n      <td>26.50</td>\n      <td>24.99</td>\n      <td>415</td>\n    </tr>\n  </tbody>\n</table>\n</div>"
     },
     "metadata": {},
     "execution_count": 99
    }
   ],
   "source": [
    "#On visualise le début de notre dataset.\n",
    "data.head()"
   ]
  },
  {
   "cell_type": "code",
   "execution_count": 100,
   "metadata": {},
   "outputs": [
    {
     "output_type": "execute_result",
     "data": {
      "text/plain": [
       "            Unnamed: 0   Name  Daily_High Daily_Low\n",
       "Date                                               \n",
       "2020-04-03           0  Accor       23.40     22.99\n",
       "2020-04-02           1  Accor       23.91     22.99\n",
       "2020-04-01           2  Accor       24.10     23.83\n",
       "2020-03-31           3  Accor       25.24     24.99\n",
       "2020-03-30           4  Accor       26.50     24.99"
      ],
      "text/html": "<div>\n<style scoped>\n    .dataframe tbody tr th:only-of-type {\n        vertical-align: middle;\n    }\n\n    .dataframe tbody tr th {\n        vertical-align: top;\n    }\n\n    .dataframe thead th {\n        text-align: right;\n    }\n</style>\n<table border=\"1\" class=\"dataframe\">\n  <thead>\n    <tr style=\"text-align: right;\">\n      <th></th>\n      <th>Unnamed: 0</th>\n      <th>Name</th>\n      <th>Daily_High</th>\n      <th>Daily_Low</th>\n    </tr>\n    <tr>\n      <th>Date</th>\n      <th></th>\n      <th></th>\n      <th></th>\n      <th></th>\n    </tr>\n  </thead>\n  <tbody>\n    <tr>\n      <th>2020-04-03</th>\n      <td>0</td>\n      <td>Accor</td>\n      <td>23.40</td>\n      <td>22.99</td>\n    </tr>\n    <tr>\n      <th>2020-04-02</th>\n      <td>1</td>\n      <td>Accor</td>\n      <td>23.91</td>\n      <td>22.99</td>\n    </tr>\n    <tr>\n      <th>2020-04-01</th>\n      <td>2</td>\n      <td>Accor</td>\n      <td>24.10</td>\n      <td>23.83</td>\n    </tr>\n    <tr>\n      <th>2020-03-31</th>\n      <td>3</td>\n      <td>Accor</td>\n      <td>25.24</td>\n      <td>24.99</td>\n    </tr>\n    <tr>\n      <th>2020-03-30</th>\n      <td>4</td>\n      <td>Accor</td>\n      <td>26.50</td>\n      <td>24.99</td>\n    </tr>\n  </tbody>\n</table>\n</div>"
     },
     "metadata": {},
     "execution_count": 100
    }
   ],
   "source": [
    "#On supprime les colonnes qui nous intéresse pas.\n",
    "data=data.drop(['Open','Closing_Price','Volume'], axis=1)\n",
    "data.head()"
   ]
  },
  {
   "cell_type": "code",
   "execution_count": 101,
   "metadata": {},
   "outputs": [
    {
     "output_type": "execute_result",
     "data": {
      "text/plain": [
       "         Unnamed: 0    Daily_High\n",
       "count  97444.000000  97444.000000\n",
       "mean   48760.539099     69.145090\n",
       "std    28176.457654     77.646032\n",
       "min        0.000000      3.410000\n",
       "25%    24369.750000     24.960000\n",
       "50%    48732.500000     47.160000\n",
       "75%    73094.250000     82.220000\n",
       "max    97647.000000    724.000000"
      ],
      "text/html": "<div>\n<style scoped>\n    .dataframe tbody tr th:only-of-type {\n        vertical-align: middle;\n    }\n\n    .dataframe tbody tr th {\n        vertical-align: top;\n    }\n\n    .dataframe thead th {\n        text-align: right;\n    }\n</style>\n<table border=\"1\" class=\"dataframe\">\n  <thead>\n    <tr style=\"text-align: right;\">\n      <th></th>\n      <th>Unnamed: 0</th>\n      <th>Daily_High</th>\n    </tr>\n  </thead>\n  <tbody>\n    <tr>\n      <th>count</th>\n      <td>97444.000000</td>\n      <td>97444.000000</td>\n    </tr>\n    <tr>\n      <th>mean</th>\n      <td>48760.539099</td>\n      <td>69.145090</td>\n    </tr>\n    <tr>\n      <th>std</th>\n      <td>28176.457654</td>\n      <td>77.646032</td>\n    </tr>\n    <tr>\n      <th>min</th>\n      <td>0.000000</td>\n      <td>3.410000</td>\n    </tr>\n    <tr>\n      <th>25%</th>\n      <td>24369.750000</td>\n      <td>24.960000</td>\n    </tr>\n    <tr>\n      <th>50%</th>\n      <td>48732.500000</td>\n      <td>47.160000</td>\n    </tr>\n    <tr>\n      <th>75%</th>\n      <td>73094.250000</td>\n      <td>82.220000</td>\n    </tr>\n    <tr>\n      <th>max</th>\n      <td>97647.000000</td>\n      <td>724.000000</td>\n    </tr>\n  </tbody>\n</table>\n</div>"
     },
     "metadata": {},
     "execution_count": 101
    }
   ],
   "source": [
    "#On enlève les lignes avec le Daily_High vide\n",
    "data=data.dropna(axis=0)\n",
    "data.describe()"
   ]
  },
  {
   "cell_type": "code",
   "execution_count": 102,
   "metadata": {},
   "outputs": [],
   "source": [
    "entreprise = data[data['Name'] == 'Sanofi']\n",
    "dHigh_serie = entreprise['Daily_High']\n",
    "train_values = dHigh_serie.values"
   ]
  },
  {
   "cell_type": "code",
   "execution_count": 103,
   "metadata": {},
   "outputs": [],
   "source": [
    "min_max_scaler = MinMaxScaler()\n",
    "# définir le scaler à partir de l'ensemble des données\n",
    "scaler = min_max_scaler.fit(train_values.reshape(-1, 1))\n",
    "# mise à l'échelle des données d'apprentissage et de test\n",
    "train_values = scaler.transform(dHigh_serie.values[:2000].reshape(-1, 1))\n",
    "test_values = scaler.transform(dHigh_serie.values[2000:].reshape(-1, 1))"
   ]
  },
  {
   "cell_type": "code",
   "execution_count": 104,
   "metadata": {},
   "outputs": [],
   "source": [
    "def create_window(dataset, start_index, end_index, history_size):\n",
    "    data = []\n",
    "    labels = []\n",
    "\n",
    "    start_index = start_index + history_size\n",
    "    if end_index is None:\n",
    "        end_index = len(dataset)\n",
    "\n",
    "    for i in range(start_index, end_index):\n",
    "        indices = range(i - history_size, i)\n",
    "        data.append(np.reshape(dataset[indices], (history_size, 1)))\n",
    "        labels.append(dataset[i])\n",
    "\n",
    "    return np.array(data), np.array(labels)"
   ]
  },
  {
   "cell_type": "code",
   "execution_count": 105,
   "metadata": {},
   "outputs": [],
   "source": [
    "train_features, train_labels = create_window(train_values, 0, None, 5)\n",
    "test_features, test_labels = create_window(test_values, 0, None, 5)"
   ]
  },
  {
   "cell_type": "code",
   "execution_count": 106,
   "metadata": {},
   "outputs": [],
   "source": [
    "train_dataset = tf.data.Dataset.from_tensor_slices((train_features, train_labels)).batch(100).repeat()\n",
    "test_dataset = tf.data.Dataset.from_tensor_slices((test_features, test_labels)).batch(100).repeat()"
   ]
  },
  {
   "cell_type": "code",
   "execution_count": 107,
   "metadata": {},
   "outputs": [],
   "source": [
    "model = tf.keras.models.Sequential([\n",
    "    tf.keras.layers.LSTM(8, input_shape=(5, 1)),\n",
    "    tf.keras.layers.Dense(1)\n",
    "])\n",
    "model.compile(optimizer='adam', loss='mean_squared_error')"
   ]
  },
  {
   "cell_type": "code",
   "execution_count": 108,
   "metadata": {},
   "outputs": [
    {
     "output_type": "stream",
     "name": "stdout",
     "text": [
      "Epoch 1/100\n",
      "20/20 [==============================] - 2s 103ms/step - loss: 0.5601 - val_loss: 0.0171\n",
      "Epoch 2/100\n",
      "20/20 [==============================] - 0s 8ms/step - loss: 0.3434 - val_loss: 0.0040\n",
      "Epoch 3/100\n",
      "20/20 [==============================] - 0s 6ms/step - loss: 0.1796 - val_loss: 0.0085\n",
      "Epoch 4/100\n",
      "20/20 [==============================] - 0s 6ms/step - loss: 0.0699 - val_loss: 0.0288\n",
      "Epoch 5/100\n",
      "20/20 [==============================] - 0s 6ms/step - loss: 0.0183 - val_loss: 0.0533\n",
      "Epoch 6/100\n",
      "20/20 [==============================] - 0s 6ms/step - loss: 0.0068 - val_loss: 0.0643\n",
      "Epoch 7/100\n",
      "20/20 [==============================] - 0s 5ms/step - loss: 0.0060 - val_loss: 0.0629\n",
      "Epoch 8/100\n",
      "20/20 [==============================] - 0s 5ms/step - loss: 0.0058 - val_loss: 0.0596\n",
      "Epoch 9/100\n",
      "20/20 [==============================] - 0s 5ms/step - loss: 0.0056 - val_loss: 0.0576\n",
      "Epoch 10/100\n",
      "20/20 [==============================] - 0s 5ms/step - loss: 0.0054 - val_loss: 0.0561\n",
      "Epoch 11/100\n",
      "20/20 [==============================] - 0s 5ms/step - loss: 0.0052 - val_loss: 0.0545\n",
      "Epoch 12/100\n",
      "20/20 [==============================] - 0s 5ms/step - loss: 0.0050 - val_loss: 0.0527\n",
      "Epoch 13/100\n",
      "20/20 [==============================] - 0s 5ms/step - loss: 0.0048 - val_loss: 0.0510\n",
      "Epoch 14/100\n",
      "20/20 [==============================] - 0s 4ms/step - loss: 0.0046 - val_loss: 0.0492\n",
      "Epoch 15/100\n",
      "20/20 [==============================] - 0s 4ms/step - loss: 0.0045 - val_loss: 0.0475\n",
      "Epoch 16/100\n",
      "20/20 [==============================] - 0s 4ms/step - loss: 0.0043 - val_loss: 0.0458\n",
      "Epoch 17/100\n",
      "20/20 [==============================] - 0s 4ms/step - loss: 0.0041 - val_loss: 0.0441\n",
      "Epoch 18/100\n",
      "20/20 [==============================] - 0s 4ms/step - loss: 0.0039 - val_loss: 0.0424\n",
      "Epoch 19/100\n",
      "20/20 [==============================] - 0s 5ms/step - loss: 0.0037 - val_loss: 0.0407\n",
      "Epoch 20/100\n",
      "20/20 [==============================] - 0s 4ms/step - loss: 0.0035 - val_loss: 0.0391\n",
      "Epoch 21/100\n",
      "20/20 [==============================] - 0s 5ms/step - loss: 0.0033 - val_loss: 0.0375\n",
      "Epoch 22/100\n",
      "20/20 [==============================] - 0s 4ms/step - loss: 0.0032 - val_loss: 0.0360\n",
      "Epoch 23/100\n",
      "20/20 [==============================] - 0s 4ms/step - loss: 0.0030 - val_loss: 0.0344\n",
      "Epoch 24/100\n",
      "20/20 [==============================] - 0s 4ms/step - loss: 0.0029 - val_loss: 0.0330\n",
      "Epoch 25/100\n",
      "20/20 [==============================] - 0s 4ms/step - loss: 0.0027 - val_loss: 0.0315\n",
      "Epoch 26/100\n",
      "20/20 [==============================] - 0s 4ms/step - loss: 0.0026 - val_loss: 0.0301\n",
      "Epoch 27/100\n",
      "20/20 [==============================] - 0s 4ms/step - loss: 0.0024 - val_loss: 0.0288\n",
      "Epoch 28/100\n",
      "20/20 [==============================] - 0s 4ms/step - loss: 0.0023 - val_loss: 0.0275\n",
      "Epoch 29/100\n",
      "20/20 [==============================] - 0s 4ms/step - loss: 0.0022 - val_loss: 0.0263\n",
      "Epoch 30/100\n",
      "20/20 [==============================] - 0s 3ms/step - loss: 0.0021 - val_loss: 0.0251\n",
      "Epoch 31/100\n",
      "20/20 [==============================] - 0s 3ms/step - loss: 0.0020 - val_loss: 0.0239\n",
      "Epoch 32/100\n",
      "20/20 [==============================] - 0s 3ms/step - loss: 0.0019 - val_loss: 0.0228\n",
      "Epoch 33/100\n",
      "20/20 [==============================] - 0s 3ms/step - loss: 0.0018 - val_loss: 0.0218\n",
      "Epoch 34/100\n",
      "20/20 [==============================] - 0s 4ms/step - loss: 0.0017 - val_loss: 0.0208\n",
      "Epoch 35/100\n",
      "20/20 [==============================] - 0s 4ms/step - loss: 0.0016 - val_loss: 0.0199\n",
      "Epoch 36/100\n",
      "20/20 [==============================] - 0s 4ms/step - loss: 0.0015 - val_loss: 0.0190\n",
      "Epoch 37/100\n",
      "20/20 [==============================] - 0s 4ms/step - loss: 0.0014 - val_loss: 0.0181\n",
      "Epoch 38/100\n",
      "20/20 [==============================] - 0s 3ms/step - loss: 0.0014 - val_loss: 0.0173\n",
      "Epoch 39/100\n",
      "20/20 [==============================] - 0s 4ms/step - loss: 0.0013 - val_loss: 0.0165\n",
      "Epoch 40/100\n",
      "20/20 [==============================] - 0s 4ms/step - loss: 0.0013 - val_loss: 0.0158\n",
      "Epoch 41/100\n",
      "20/20 [==============================] - 0s 4ms/step - loss: 0.0012 - val_loss: 0.0152\n",
      "Epoch 42/100\n",
      "20/20 [==============================] - 0s 4ms/step - loss: 0.0012 - val_loss: 0.0145\n",
      "Epoch 43/100\n",
      "20/20 [==============================] - 0s 3ms/step - loss: 0.0011 - val_loss: 0.0139\n",
      "Epoch 44/100\n",
      "20/20 [==============================] - 0s 3ms/step - loss: 0.0011 - val_loss: 0.0134\n",
      "Epoch 45/100\n",
      "20/20 [==============================] - 0s 3ms/step - loss: 0.0011 - val_loss: 0.0129\n",
      "Epoch 46/100\n",
      "20/20 [==============================] - 0s 3ms/step - loss: 0.0010 - val_loss: 0.0124\n",
      "Epoch 47/100\n",
      "20/20 [==============================] - 0s 3ms/step - loss: 0.0010 - val_loss: 0.0119\n",
      "Epoch 48/100\n",
      "20/20 [==============================] - 0s 3ms/step - loss: 9.9820e-04 - val_loss: 0.0115\n",
      "Epoch 49/100\n",
      "20/20 [==============================] - 0s 3ms/step - loss: 9.7949e-04 - val_loss: 0.0111\n",
      "Epoch 50/100\n",
      "20/20 [==============================] - 0s 3ms/step - loss: 9.6316e-04 - val_loss: 0.0108\n",
      "Epoch 51/100\n",
      "20/20 [==============================] - 0s 3ms/step - loss: 9.4895e-04 - val_loss: 0.0104\n",
      "Epoch 52/100\n",
      "20/20 [==============================] - 0s 3ms/step - loss: 9.3664e-04 - val_loss: 0.0101\n",
      "Epoch 53/100\n",
      "20/20 [==============================] - 0s 3ms/step - loss: 9.2600e-04 - val_loss: 0.0098\n",
      "Epoch 54/100\n",
      "20/20 [==============================] - 0s 3ms/step - loss: 9.1685e-04 - val_loss: 0.0096\n",
      "Epoch 55/100\n",
      "20/20 [==============================] - 0s 3ms/step - loss: 9.0899e-04 - val_loss: 0.0093\n",
      "Epoch 56/100\n",
      "20/20 [==============================] - 0s 4ms/step - loss: 9.0226e-04 - val_loss: 0.0091\n",
      "Epoch 57/100\n",
      "20/20 [==============================] - 0s 4ms/step - loss: 8.9651e-04 - val_loss: 0.0089\n",
      "Epoch 58/100\n",
      "20/20 [==============================] - 0s 3ms/step - loss: 8.9161e-04 - val_loss: 0.0087\n",
      "Epoch 59/100\n",
      "20/20 [==============================] - 0s 3ms/step - loss: 8.8743e-04 - val_loss: 0.0085\n",
      "Epoch 60/100\n",
      "20/20 [==============================] - 0s 7ms/step - loss: 8.8387e-04 - val_loss: 0.0084\n",
      "Epoch 61/100\n",
      "20/20 [==============================] - 0s 4ms/step - loss: 8.8083e-04 - val_loss: 0.0082\n",
      "Epoch 62/100\n",
      "20/20 [==============================] - 0s 4ms/step - loss: 8.7824e-04 - val_loss: 0.0081\n",
      "Epoch 63/100\n",
      "20/20 [==============================] - 0s 3ms/step - loss: 8.7602e-04 - val_loss: 0.0079\n",
      "Epoch 64/100\n",
      "20/20 [==============================] - 0s 3ms/step - loss: 8.7411e-04 - val_loss: 0.0078\n",
      "Epoch 65/100\n",
      "20/20 [==============================] - 0s 3ms/step - loss: 8.7245e-04 - val_loss: 0.0077\n",
      "Epoch 66/100\n",
      "20/20 [==============================] - 0s 3ms/step - loss: 8.7101e-04 - val_loss: 0.0076\n",
      "Epoch 67/100\n",
      "20/20 [==============================] - 0s 3ms/step - loss: 8.6973e-04 - val_loss: 0.0075\n",
      "Epoch 68/100\n",
      "20/20 [==============================] - 0s 3ms/step - loss: 8.6860e-04 - val_loss: 0.0074\n",
      "Epoch 69/100\n",
      "20/20 [==============================] - 0s 3ms/step - loss: 8.6758e-04 - val_loss: 0.0074\n",
      "Epoch 70/100\n",
      "20/20 [==============================] - 0s 3ms/step - loss: 8.6665e-04 - val_loss: 0.0073\n",
      "Epoch 71/100\n",
      "20/20 [==============================] - 0s 4ms/step - loss: 8.6578e-04 - val_loss: 0.0072\n",
      "Epoch 72/100\n",
      "20/20 [==============================] - 0s 3ms/step - loss: 8.6498e-04 - val_loss: 0.0072\n",
      "Epoch 73/100\n",
      "20/20 [==============================] - 0s 3ms/step - loss: 8.6422e-04 - val_loss: 0.0071\n",
      "Epoch 74/100\n",
      "20/20 [==============================] - 0s 3ms/step - loss: 8.6349e-04 - val_loss: 0.0071\n",
      "Epoch 75/100\n",
      "20/20 [==============================] - 0s 3ms/step - loss: 8.6278e-04 - val_loss: 0.0070\n",
      "Epoch 76/100\n",
      "20/20 [==============================] - 0s 4ms/step - loss: 8.6209e-04 - val_loss: 0.0070\n",
      "Epoch 77/100\n",
      "20/20 [==============================] - 0s 4ms/step - loss: 8.6141e-04 - val_loss: 0.0069\n",
      "Epoch 78/100\n",
      "20/20 [==============================] - 0s 3ms/step - loss: 8.6074e-04 - val_loss: 0.0069\n",
      "Epoch 79/100\n",
      "20/20 [==============================] - 0s 3ms/step - loss: 8.6008e-04 - val_loss: 0.0068\n",
      "Epoch 80/100\n",
      "20/20 [==============================] - 0s 3ms/step - loss: 8.5941e-04 - val_loss: 0.0068\n",
      "Epoch 81/100\n",
      "20/20 [==============================] - 0s 3ms/step - loss: 8.5875e-04 - val_loss: 0.0068\n",
      "Epoch 82/100\n",
      "20/20 [==============================] - 0s 3ms/step - loss: 8.5808e-04 - val_loss: 0.0067\n",
      "Epoch 83/100\n",
      "20/20 [==============================] - 0s 3ms/step - loss: 8.5741e-04 - val_loss: 0.0067\n",
      "Epoch 84/100\n",
      "20/20 [==============================] - 0s 4ms/step - loss: 8.5674e-04 - val_loss: 0.0067\n",
      "Epoch 85/100\n",
      "20/20 [==============================] - 0s 3ms/step - loss: 8.5606e-04 - val_loss: 0.0066\n",
      "Epoch 86/100\n",
      "20/20 [==============================] - 0s 3ms/step - loss: 8.5538e-04 - val_loss: 0.0066\n",
      "Epoch 87/100\n",
      "20/20 [==============================] - 0s 3ms/step - loss: 8.5469e-04 - val_loss: 0.0066\n",
      "Epoch 88/100\n",
      "20/20 [==============================] - 0s 3ms/step - loss: 8.5400e-04 - val_loss: 0.0066\n",
      "Epoch 89/100\n",
      "20/20 [==============================] - 0s 3ms/step - loss: 8.5330e-04 - val_loss: 0.0065\n",
      "Epoch 90/100\n",
      "20/20 [==============================] - 0s 3ms/step - loss: 8.5260e-04 - val_loss: 0.0065\n",
      "Epoch 91/100\n",
      "20/20 [==============================] - 0s 4ms/step - loss: 8.5189e-04 - val_loss: 0.0065\n",
      "Epoch 92/100\n",
      "20/20 [==============================] - 0s 3ms/step - loss: 8.5117e-04 - val_loss: 0.0065\n",
      "Epoch 93/100\n",
      "20/20 [==============================] - 0s 3ms/step - loss: 8.5045e-04 - val_loss: 0.0064\n",
      "Epoch 94/100\n",
      "20/20 [==============================] - 0s 3ms/step - loss: 8.4972e-04 - val_loss: 0.0064\n",
      "Epoch 95/100\n",
      "20/20 [==============================] - 0s 3ms/step - loss: 8.4899e-04 - val_loss: 0.0064\n",
      "Epoch 96/100\n",
      "20/20 [==============================] - 0s 3ms/step - loss: 8.4825e-04 - val_loss: 0.0063\n",
      "Epoch 97/100\n",
      "20/20 [==============================] - 0s 3ms/step - loss: 8.4751e-04 - val_loss: 0.0063\n",
      "Epoch 98/100\n",
      "20/20 [==============================] - 0s 3ms/step - loss: 8.4676e-04 - val_loss: 0.0063\n",
      "Epoch 99/100\n",
      "20/20 [==============================] - 0s 3ms/step - loss: 8.4601e-04 - val_loss: 0.0063\n",
      "Epoch 100/100\n",
      "20/20 [==============================] - 0s 3ms/step - loss: 8.4525e-04 - val_loss: 0.0062\n"
     ]
    }
   ],
   "source": [
    "history = model.fit(\n",
    "    train_dataset,\n",
    "    epochs=100,\n",
    "    steps_per_epoch=20,\n",
    "    validation_data=test_dataset,\n",
    "    validation_steps=3\n",
    ")"
   ]
  },
  {
   "cell_type": "code",
   "execution_count": 109,
   "metadata": {},
   "outputs": [],
   "source": [
    "def plot_history(history):\n",
    "    loss = history.history[\"loss\"]\n",
    "    val_loss = history.history[\"val_loss\"]\n",
    "    plt.plot(np.arange(len(loss)) + 0.5, loss, \"b.-\", label=\"Training loss\")\n",
    "    plt.plot(np.arange(len(val_loss)) + 1, val_loss, \"r.-\", label=\"Validation loss\")\n",
    "    plt.gca().xaxis.set_major_locator(mpl.ticker.MaxNLocator(integer=True))\n",
    "    plt.axis([1, 20, 0, 0.15])\n",
    "    plt.legend(fontsize=14)\n",
    "    plt.xlabel(\"Epochs\")\n",
    "    plt.ylabel(\"Loss\")\n",
    "    plt.grid(True)\n",
    "    plt.show()"
   ]
  },
  {
   "cell_type": "code",
   "execution_count": 110,
   "metadata": {},
   "outputs": [
    {
     "output_type": "display_data",
     "data": {
      "text/plain": "<Figure size 432x288 with 1 Axes>",
      "image/svg+xml": "<?xml version=\"1.0\" encoding=\"utf-8\" standalone=\"no\"?>\r\n<!DOCTYPE svg PUBLIC \"-//W3C//DTD SVG 1.1//EN\"\r\n  \"http://www.w3.org/Graphics/SVG/1.1/DTD/svg11.dtd\">\r\n<!-- Created with matplotlib (https://matplotlib.org/) -->\r\n<svg height=\"248.518125pt\" version=\"1.1\" viewBox=\"0 0 368.925 248.518125\" width=\"368.925pt\" xmlns=\"http://www.w3.org/2000/svg\" xmlns:xlink=\"http://www.w3.org/1999/xlink\">\r\n <metadata>\r\n  <rdf:RDF xmlns:cc=\"http://creativecommons.org/ns#\" xmlns:dc=\"http://purl.org/dc/elements/1.1/\" xmlns:rdf=\"http://www.w3.org/1999/02/22-rdf-syntax-ns#\">\r\n   <cc:Work>\r\n    <dc:type rdf:resource=\"http://purl.org/dc/dcmitype/StillImage\"/>\r\n    <dc:date>2020-12-29T17:24:21.136803</dc:date>\r\n    <dc:format>image/svg+xml</dc:format>\r\n    <dc:creator>\r\n     <cc:Agent>\r\n      <dc:title>Matplotlib v3.3.2, https://matplotlib.org/</dc:title>\r\n     </cc:Agent>\r\n    </dc:creator>\r\n   </cc:Work>\r\n  </rdf:RDF>\r\n </metadata>\r\n <defs>\r\n  <style type=\"text/css\">*{stroke-linecap:butt;stroke-linejoin:round;}</style>\r\n </defs>\r\n <g id=\"figure_1\">\r\n  <g id=\"patch_1\">\r\n   <path d=\"M -0 248.518125 \r\nL 368.925 248.518125 \r\nL 368.925 0 \r\nL -0 0 \r\nz\r\n\" style=\"fill:none;\"/>\r\n  </g>\r\n  <g id=\"axes_1\">\r\n   <g id=\"patch_2\">\r\n    <path d=\"M 26.925 224.64 \r\nL 361.725 224.64 \r\nL 361.725 7.2 \r\nL 26.925 7.2 \r\nz\r\n\" style=\"fill:#ffffff;\"/>\r\n   </g>\r\n   <g id=\"matplotlib.axis_1\">\r\n    <g id=\"xtick_1\">\r\n     <g id=\"line2d_1\">\r\n      <path clip-path=\"url(#p850ade11f0)\" d=\"M 42.143182 224.64 \r\nL 42.143182 7.2 \r\n\" style=\"fill:none;stroke:#b0b0b0;stroke-linecap:square;stroke-width:0.8;\"/>\r\n     </g>\r\n     <g id=\"line2d_2\">\r\n      <defs>\r\n       <path d=\"M 0 0 \r\nL 0 3.5 \r\n\" id=\"ma6f12161cd\" style=\"stroke:#000000;stroke-width:0.8;\"/>\r\n      </defs>\r\n      <g>\r\n       <use style=\"stroke:#000000;stroke-width:0.8;\" x=\"42.143182\" xlink:href=\"#ma6f12161cd\" y=\"224.64\"/>\r\n      </g>\r\n     </g>\r\n     <g id=\"text_1\">\r\n      <!-- 0 -->\r\n      <g transform=\"translate(38.961932 239.238437)scale(0.1 -0.1)\">\r\n       <defs>\r\n        <path d=\"M 31.78125 66.40625 \r\nQ 24.171875 66.40625 20.328125 58.90625 \r\nQ 16.5 51.421875 16.5 36.375 \r\nQ 16.5 21.390625 20.328125 13.890625 \r\nQ 24.171875 6.390625 31.78125 6.390625 \r\nQ 39.453125 6.390625 43.28125 13.890625 \r\nQ 47.125 21.390625 47.125 36.375 \r\nQ 47.125 51.421875 43.28125 58.90625 \r\nQ 39.453125 66.40625 31.78125 66.40625 \r\nz\r\nM 31.78125 74.21875 \r\nQ 44.046875 74.21875 50.515625 64.515625 \r\nQ 56.984375 54.828125 56.984375 36.375 \r\nQ 56.984375 17.96875 50.515625 8.265625 \r\nQ 44.046875 -1.421875 31.78125 -1.421875 \r\nQ 19.53125 -1.421875 13.0625 8.265625 \r\nQ 6.59375 17.96875 6.59375 36.375 \r\nQ 6.59375 54.828125 13.0625 64.515625 \r\nQ 19.53125 74.21875 31.78125 74.21875 \r\nz\r\n\" id=\"DejaVuSans-48\"/>\r\n       </defs>\r\n       <use xlink:href=\"#DejaVuSans-48\"/>\r\n      </g>\r\n     </g>\r\n    </g>\r\n    <g id=\"xtick_2\">\r\n     <g id=\"line2d_3\">\r\n      <path clip-path=\"url(#p850ade11f0)\" d=\"M 93.040111 224.64 \r\nL 93.040111 7.2 \r\n\" style=\"fill:none;stroke:#b0b0b0;stroke-linecap:square;stroke-width:0.8;\"/>\r\n     </g>\r\n     <g id=\"line2d_4\">\r\n      <g>\r\n       <use style=\"stroke:#000000;stroke-width:0.8;\" x=\"93.040111\" xlink:href=\"#ma6f12161cd\" y=\"224.64\"/>\r\n      </g>\r\n     </g>\r\n     <g id=\"text_2\">\r\n      <!-- 50 -->\r\n      <g transform=\"translate(86.677611 239.238437)scale(0.1 -0.1)\">\r\n       <defs>\r\n        <path d=\"M 10.796875 72.90625 \r\nL 49.515625 72.90625 \r\nL 49.515625 64.59375 \r\nL 19.828125 64.59375 \r\nL 19.828125 46.734375 \r\nQ 21.96875 47.46875 24.109375 47.828125 \r\nQ 26.265625 48.1875 28.421875 48.1875 \r\nQ 40.625 48.1875 47.75 41.5 \r\nQ 54.890625 34.8125 54.890625 23.390625 \r\nQ 54.890625 11.625 47.5625 5.09375 \r\nQ 40.234375 -1.421875 26.90625 -1.421875 \r\nQ 22.3125 -1.421875 17.546875 -0.640625 \r\nQ 12.796875 0.140625 7.71875 1.703125 \r\nL 7.71875 11.625 \r\nQ 12.109375 9.234375 16.796875 8.0625 \r\nQ 21.484375 6.890625 26.703125 6.890625 \r\nQ 35.15625 6.890625 40.078125 11.328125 \r\nQ 45.015625 15.765625 45.015625 23.390625 \r\nQ 45.015625 31 40.078125 35.4375 \r\nQ 35.15625 39.890625 26.703125 39.890625 \r\nQ 22.75 39.890625 18.8125 39.015625 \r\nQ 14.890625 38.140625 10.796875 36.28125 \r\nz\r\n\" id=\"DejaVuSans-53\"/>\r\n       </defs>\r\n       <use xlink:href=\"#DejaVuSans-53\"/>\r\n       <use x=\"63.623047\" xlink:href=\"#DejaVuSans-48\"/>\r\n      </g>\r\n     </g>\r\n    </g>\r\n    <g id=\"xtick_3\">\r\n     <g id=\"line2d_5\">\r\n      <path clip-path=\"url(#p850ade11f0)\" d=\"M 143.93704 224.64 \r\nL 143.93704 7.2 \r\n\" style=\"fill:none;stroke:#b0b0b0;stroke-linecap:square;stroke-width:0.8;\"/>\r\n     </g>\r\n     <g id=\"line2d_6\">\r\n      <g>\r\n       <use style=\"stroke:#000000;stroke-width:0.8;\" x=\"143.93704\" xlink:href=\"#ma6f12161cd\" y=\"224.64\"/>\r\n      </g>\r\n     </g>\r\n     <g id=\"text_3\">\r\n      <!-- 100 -->\r\n      <g transform=\"translate(134.39329 239.238437)scale(0.1 -0.1)\">\r\n       <defs>\r\n        <path d=\"M 12.40625 8.296875 \r\nL 28.515625 8.296875 \r\nL 28.515625 63.921875 \r\nL 10.984375 60.40625 \r\nL 10.984375 69.390625 \r\nL 28.421875 72.90625 \r\nL 38.28125 72.90625 \r\nL 38.28125 8.296875 \r\nL 54.390625 8.296875 \r\nL 54.390625 0 \r\nL 12.40625 0 \r\nz\r\n\" id=\"DejaVuSans-49\"/>\r\n       </defs>\r\n       <use xlink:href=\"#DejaVuSans-49\"/>\r\n       <use x=\"63.623047\" xlink:href=\"#DejaVuSans-48\"/>\r\n       <use x=\"127.246094\" xlink:href=\"#DejaVuSans-48\"/>\r\n      </g>\r\n     </g>\r\n    </g>\r\n    <g id=\"xtick_4\">\r\n     <g id=\"line2d_7\">\r\n      <path clip-path=\"url(#p850ade11f0)\" d=\"M 194.833969 224.64 \r\nL 194.833969 7.2 \r\n\" style=\"fill:none;stroke:#b0b0b0;stroke-linecap:square;stroke-width:0.8;\"/>\r\n     </g>\r\n     <g id=\"line2d_8\">\r\n      <g>\r\n       <use style=\"stroke:#000000;stroke-width:0.8;\" x=\"194.833969\" xlink:href=\"#ma6f12161cd\" y=\"224.64\"/>\r\n      </g>\r\n     </g>\r\n     <g id=\"text_4\">\r\n      <!-- 150 -->\r\n      <g transform=\"translate(185.290219 239.238437)scale(0.1 -0.1)\">\r\n       <use xlink:href=\"#DejaVuSans-49\"/>\r\n       <use x=\"63.623047\" xlink:href=\"#DejaVuSans-53\"/>\r\n       <use x=\"127.246094\" xlink:href=\"#DejaVuSans-48\"/>\r\n      </g>\r\n     </g>\r\n    </g>\r\n    <g id=\"xtick_5\">\r\n     <g id=\"line2d_9\">\r\n      <path clip-path=\"url(#p850ade11f0)\" d=\"M 245.730898 224.64 \r\nL 245.730898 7.2 \r\n\" style=\"fill:none;stroke:#b0b0b0;stroke-linecap:square;stroke-width:0.8;\"/>\r\n     </g>\r\n     <g id=\"line2d_10\">\r\n      <g>\r\n       <use style=\"stroke:#000000;stroke-width:0.8;\" x=\"245.730898\" xlink:href=\"#ma6f12161cd\" y=\"224.64\"/>\r\n      </g>\r\n     </g>\r\n     <g id=\"text_5\">\r\n      <!-- 200 -->\r\n      <g transform=\"translate(236.187148 239.238437)scale(0.1 -0.1)\">\r\n       <defs>\r\n        <path d=\"M 19.1875 8.296875 \r\nL 53.609375 8.296875 \r\nL 53.609375 0 \r\nL 7.328125 0 \r\nL 7.328125 8.296875 \r\nQ 12.9375 14.109375 22.625 23.890625 \r\nQ 32.328125 33.6875 34.8125 36.53125 \r\nQ 39.546875 41.84375 41.421875 45.53125 \r\nQ 43.3125 49.21875 43.3125 52.78125 \r\nQ 43.3125 58.59375 39.234375 62.25 \r\nQ 35.15625 65.921875 28.609375 65.921875 \r\nQ 23.96875 65.921875 18.8125 64.3125 \r\nQ 13.671875 62.703125 7.8125 59.421875 \r\nL 7.8125 69.390625 \r\nQ 13.765625 71.78125 18.9375 73 \r\nQ 24.125 74.21875 28.421875 74.21875 \r\nQ 39.75 74.21875 46.484375 68.546875 \r\nQ 53.21875 62.890625 53.21875 53.421875 \r\nQ 53.21875 48.921875 51.53125 44.890625 \r\nQ 49.859375 40.875 45.40625 35.40625 \r\nQ 44.1875 33.984375 37.640625 27.21875 \r\nQ 31.109375 20.453125 19.1875 8.296875 \r\nz\r\n\" id=\"DejaVuSans-50\"/>\r\n       </defs>\r\n       <use xlink:href=\"#DejaVuSans-50\"/>\r\n       <use x=\"63.623047\" xlink:href=\"#DejaVuSans-48\"/>\r\n       <use x=\"127.246094\" xlink:href=\"#DejaVuSans-48\"/>\r\n      </g>\r\n     </g>\r\n    </g>\r\n    <g id=\"xtick_6\">\r\n     <g id=\"line2d_11\">\r\n      <path clip-path=\"url(#p850ade11f0)\" d=\"M 296.627828 224.64 \r\nL 296.627828 7.2 \r\n\" style=\"fill:none;stroke:#b0b0b0;stroke-linecap:square;stroke-width:0.8;\"/>\r\n     </g>\r\n     <g id=\"line2d_12\">\r\n      <g>\r\n       <use style=\"stroke:#000000;stroke-width:0.8;\" x=\"296.627828\" xlink:href=\"#ma6f12161cd\" y=\"224.64\"/>\r\n      </g>\r\n     </g>\r\n     <g id=\"text_6\">\r\n      <!-- 250 -->\r\n      <g transform=\"translate(287.084078 239.238437)scale(0.1 -0.1)\">\r\n       <use xlink:href=\"#DejaVuSans-50\"/>\r\n       <use x=\"63.623047\" xlink:href=\"#DejaVuSans-53\"/>\r\n       <use x=\"127.246094\" xlink:href=\"#DejaVuSans-48\"/>\r\n      </g>\r\n     </g>\r\n    </g>\r\n    <g id=\"xtick_7\">\r\n     <g id=\"line2d_13\">\r\n      <path clip-path=\"url(#p850ade11f0)\" d=\"M 347.524757 224.64 \r\nL 347.524757 7.2 \r\n\" style=\"fill:none;stroke:#b0b0b0;stroke-linecap:square;stroke-width:0.8;\"/>\r\n     </g>\r\n     <g id=\"line2d_14\">\r\n      <g>\r\n       <use style=\"stroke:#000000;stroke-width:0.8;\" x=\"347.524757\" xlink:href=\"#ma6f12161cd\" y=\"224.64\"/>\r\n      </g>\r\n     </g>\r\n     <g id=\"text_7\">\r\n      <!-- 300 -->\r\n      <g transform=\"translate(337.981007 239.238437)scale(0.1 -0.1)\">\r\n       <defs>\r\n        <path d=\"M 40.578125 39.3125 \r\nQ 47.65625 37.796875 51.625 33 \r\nQ 55.609375 28.21875 55.609375 21.1875 \r\nQ 55.609375 10.40625 48.1875 4.484375 \r\nQ 40.765625 -1.421875 27.09375 -1.421875 \r\nQ 22.515625 -1.421875 17.65625 -0.515625 \r\nQ 12.796875 0.390625 7.625 2.203125 \r\nL 7.625 11.71875 \r\nQ 11.71875 9.328125 16.59375 8.109375 \r\nQ 21.484375 6.890625 26.8125 6.890625 \r\nQ 36.078125 6.890625 40.9375 10.546875 \r\nQ 45.796875 14.203125 45.796875 21.1875 \r\nQ 45.796875 27.640625 41.28125 31.265625 \r\nQ 36.765625 34.90625 28.71875 34.90625 \r\nL 20.21875 34.90625 \r\nL 20.21875 43.015625 \r\nL 29.109375 43.015625 \r\nQ 36.375 43.015625 40.234375 45.921875 \r\nQ 44.09375 48.828125 44.09375 54.296875 \r\nQ 44.09375 59.90625 40.109375 62.90625 \r\nQ 36.140625 65.921875 28.71875 65.921875 \r\nQ 24.65625 65.921875 20.015625 65.03125 \r\nQ 15.375 64.15625 9.8125 62.3125 \r\nL 9.8125 71.09375 \r\nQ 15.4375 72.65625 20.34375 73.4375 \r\nQ 25.25 74.21875 29.59375 74.21875 \r\nQ 40.828125 74.21875 47.359375 69.109375 \r\nQ 53.90625 64.015625 53.90625 55.328125 \r\nQ 53.90625 49.265625 50.4375 45.09375 \r\nQ 46.96875 40.921875 40.578125 39.3125 \r\nz\r\n\" id=\"DejaVuSans-51\"/>\r\n       </defs>\r\n       <use xlink:href=\"#DejaVuSans-51\"/>\r\n       <use x=\"63.623047\" xlink:href=\"#DejaVuSans-48\"/>\r\n       <use x=\"127.246094\" xlink:href=\"#DejaVuSans-48\"/>\r\n      </g>\r\n     </g>\r\n    </g>\r\n   </g>\r\n   <g id=\"matplotlib.axis_2\">\r\n    <g id=\"ytick_1\">\r\n     <g id=\"line2d_15\">\r\n      <path clip-path=\"url(#p850ade11f0)\" d=\"M 26.925 193.184062 \r\nL 361.725 193.184062 \r\n\" style=\"fill:none;stroke:#b0b0b0;stroke-linecap:square;stroke-width:0.8;\"/>\r\n     </g>\r\n     <g id=\"line2d_16\">\r\n      <defs>\r\n       <path d=\"M 0 0 \r\nL -3.5 0 \r\n\" id=\"mdc03ec634e\" style=\"stroke:#000000;stroke-width:0.8;\"/>\r\n      </defs>\r\n      <g>\r\n       <use style=\"stroke:#000000;stroke-width:0.8;\" x=\"26.925\" xlink:href=\"#mdc03ec634e\" y=\"193.184062\"/>\r\n      </g>\r\n     </g>\r\n     <g id=\"text_8\">\r\n      <!-- 75 -->\r\n      <g transform=\"translate(7.2 196.98328)scale(0.1 -0.1)\">\r\n       <defs>\r\n        <path d=\"M 8.203125 72.90625 \r\nL 55.078125 72.90625 \r\nL 55.078125 68.703125 \r\nL 28.609375 0 \r\nL 18.3125 0 \r\nL 43.21875 64.59375 \r\nL 8.203125 64.59375 \r\nz\r\n\" id=\"DejaVuSans-55\"/>\r\n       </defs>\r\n       <use xlink:href=\"#DejaVuSans-55\"/>\r\n       <use x=\"63.623047\" xlink:href=\"#DejaVuSans-53\"/>\r\n      </g>\r\n     </g>\r\n    </g>\r\n    <g id=\"ytick_2\">\r\n     <g id=\"line2d_17\">\r\n      <path clip-path=\"url(#p850ade11f0)\" d=\"M 26.925 149.158955 \r\nL 361.725 149.158955 \r\n\" style=\"fill:none;stroke:#b0b0b0;stroke-linecap:square;stroke-width:0.8;\"/>\r\n     </g>\r\n     <g id=\"line2d_18\">\r\n      <g>\r\n       <use style=\"stroke:#000000;stroke-width:0.8;\" x=\"26.925\" xlink:href=\"#mdc03ec634e\" y=\"149.158955\"/>\r\n      </g>\r\n     </g>\r\n     <g id=\"text_9\">\r\n      <!-- 80 -->\r\n      <g transform=\"translate(7.2 152.958174)scale(0.1 -0.1)\">\r\n       <defs>\r\n        <path d=\"M 31.78125 34.625 \r\nQ 24.75 34.625 20.71875 30.859375 \r\nQ 16.703125 27.09375 16.703125 20.515625 \r\nQ 16.703125 13.921875 20.71875 10.15625 \r\nQ 24.75 6.390625 31.78125 6.390625 \r\nQ 38.8125 6.390625 42.859375 10.171875 \r\nQ 46.921875 13.96875 46.921875 20.515625 \r\nQ 46.921875 27.09375 42.890625 30.859375 \r\nQ 38.875 34.625 31.78125 34.625 \r\nz\r\nM 21.921875 38.8125 \r\nQ 15.578125 40.375 12.03125 44.71875 \r\nQ 8.5 49.078125 8.5 55.328125 \r\nQ 8.5 64.0625 14.71875 69.140625 \r\nQ 20.953125 74.21875 31.78125 74.21875 \r\nQ 42.671875 74.21875 48.875 69.140625 \r\nQ 55.078125 64.0625 55.078125 55.328125 \r\nQ 55.078125 49.078125 51.53125 44.71875 \r\nQ 48 40.375 41.703125 38.8125 \r\nQ 48.828125 37.15625 52.796875 32.3125 \r\nQ 56.78125 27.484375 56.78125 20.515625 \r\nQ 56.78125 9.90625 50.3125 4.234375 \r\nQ 43.84375 -1.421875 31.78125 -1.421875 \r\nQ 19.734375 -1.421875 13.25 4.234375 \r\nQ 6.78125 9.90625 6.78125 20.515625 \r\nQ 6.78125 27.484375 10.78125 32.3125 \r\nQ 14.796875 37.15625 21.921875 38.8125 \r\nz\r\nM 18.3125 54.390625 \r\nQ 18.3125 48.734375 21.84375 45.5625 \r\nQ 25.390625 42.390625 31.78125 42.390625 \r\nQ 38.140625 42.390625 41.71875 45.5625 \r\nQ 45.3125 48.734375 45.3125 54.390625 \r\nQ 45.3125 60.0625 41.71875 63.234375 \r\nQ 38.140625 66.40625 31.78125 66.40625 \r\nQ 25.390625 66.40625 21.84375 63.234375 \r\nQ 18.3125 60.0625 18.3125 54.390625 \r\nz\r\n\" id=\"DejaVuSans-56\"/>\r\n       </defs>\r\n       <use xlink:href=\"#DejaVuSans-56\"/>\r\n       <use x=\"63.623047\" xlink:href=\"#DejaVuSans-48\"/>\r\n      </g>\r\n     </g>\r\n    </g>\r\n    <g id=\"ytick_3\">\r\n     <g id=\"line2d_19\">\r\n      <path clip-path=\"url(#p850ade11f0)\" d=\"M 26.925 105.133849 \r\nL 361.725 105.133849 \r\n\" style=\"fill:none;stroke:#b0b0b0;stroke-linecap:square;stroke-width:0.8;\"/>\r\n     </g>\r\n     <g id=\"line2d_20\">\r\n      <g>\r\n       <use style=\"stroke:#000000;stroke-width:0.8;\" x=\"26.925\" xlink:href=\"#mdc03ec634e\" y=\"105.133849\"/>\r\n      </g>\r\n     </g>\r\n     <g id=\"text_10\">\r\n      <!-- 85 -->\r\n      <g transform=\"translate(7.2 108.933068)scale(0.1 -0.1)\">\r\n       <use xlink:href=\"#DejaVuSans-56\"/>\r\n       <use x=\"63.623047\" xlink:href=\"#DejaVuSans-53\"/>\r\n      </g>\r\n     </g>\r\n    </g>\r\n    <g id=\"ytick_4\">\r\n     <g id=\"line2d_21\">\r\n      <path clip-path=\"url(#p850ade11f0)\" d=\"M 26.925 61.108743 \r\nL 361.725 61.108743 \r\n\" style=\"fill:none;stroke:#b0b0b0;stroke-linecap:square;stroke-width:0.8;\"/>\r\n     </g>\r\n     <g id=\"line2d_22\">\r\n      <g>\r\n       <use style=\"stroke:#000000;stroke-width:0.8;\" x=\"26.925\" xlink:href=\"#mdc03ec634e\" y=\"61.108743\"/>\r\n      </g>\r\n     </g>\r\n     <g id=\"text_11\">\r\n      <!-- 90 -->\r\n      <g transform=\"translate(7.2 64.907961)scale(0.1 -0.1)\">\r\n       <defs>\r\n        <path d=\"M 10.984375 1.515625 \r\nL 10.984375 10.5 \r\nQ 14.703125 8.734375 18.5 7.8125 \r\nQ 22.3125 6.890625 25.984375 6.890625 \r\nQ 35.75 6.890625 40.890625 13.453125 \r\nQ 46.046875 20.015625 46.78125 33.40625 \r\nQ 43.953125 29.203125 39.59375 26.953125 \r\nQ 35.25 24.703125 29.984375 24.703125 \r\nQ 19.046875 24.703125 12.671875 31.3125 \r\nQ 6.296875 37.9375 6.296875 49.421875 \r\nQ 6.296875 60.640625 12.9375 67.421875 \r\nQ 19.578125 74.21875 30.609375 74.21875 \r\nQ 43.265625 74.21875 49.921875 64.515625 \r\nQ 56.59375 54.828125 56.59375 36.375 \r\nQ 56.59375 19.140625 48.40625 8.859375 \r\nQ 40.234375 -1.421875 26.421875 -1.421875 \r\nQ 22.703125 -1.421875 18.890625 -0.6875 \r\nQ 15.09375 0.046875 10.984375 1.515625 \r\nz\r\nM 30.609375 32.421875 \r\nQ 37.25 32.421875 41.125 36.953125 \r\nQ 45.015625 41.5 45.015625 49.421875 \r\nQ 45.015625 57.28125 41.125 61.84375 \r\nQ 37.25 66.40625 30.609375 66.40625 \r\nQ 23.96875 66.40625 20.09375 61.84375 \r\nQ 16.21875 57.28125 16.21875 49.421875 \r\nQ 16.21875 41.5 20.09375 36.953125 \r\nQ 23.96875 32.421875 30.609375 32.421875 \r\nz\r\n\" id=\"DejaVuSans-57\"/>\r\n       </defs>\r\n       <use xlink:href=\"#DejaVuSans-57\"/>\r\n       <use x=\"63.623047\" xlink:href=\"#DejaVuSans-48\"/>\r\n      </g>\r\n     </g>\r\n    </g>\r\n    <g id=\"ytick_5\">\r\n     <g id=\"line2d_23\">\r\n      <path clip-path=\"url(#p850ade11f0)\" d=\"M 26.925 17.083636 \r\nL 361.725 17.083636 \r\n\" style=\"fill:none;stroke:#b0b0b0;stroke-linecap:square;stroke-width:0.8;\"/>\r\n     </g>\r\n     <g id=\"line2d_24\">\r\n      <g>\r\n       <use style=\"stroke:#000000;stroke-width:0.8;\" x=\"26.925\" xlink:href=\"#mdc03ec634e\" y=\"17.083636\"/>\r\n      </g>\r\n     </g>\r\n     <g id=\"text_12\">\r\n      <!-- 95 -->\r\n      <g transform=\"translate(7.2 20.882855)scale(0.1 -0.1)\">\r\n       <use xlink:href=\"#DejaVuSans-57\"/>\r\n       <use x=\"63.623047\" xlink:href=\"#DejaVuSans-53\"/>\r\n      </g>\r\n     </g>\r\n    </g>\r\n   </g>\r\n   <g id=\"line2d_25\">\r\n    <path clip-path=\"url(#p850ade11f0)\" d=\"M 42.143182 170.291006 \r\nL 43.16112 166.768998 \r\nL 45.196998 202.693485 \r\nL 46.214936 147.221851 \r\nL 47.232875 108.655857 \r\nL 48.250813 166.768998 \r\nL 49.268752 156.026872 \r\nL 50.28669 171.171508 \r\nL 51.304629 169.146354 \r\nL 52.322568 172.316161 \r\nL 53.340506 140.618085 \r\nL 55.376383 122.743891 \r\nL 56.394322 76.781681 \r\nL 57.412261 61.108743 \r\nL 58.430199 60.932642 \r\nL 59.448138 74.052124 \r\nL 60.466076 93.07097 \r\nL 61.484015 98.177882 \r\nL 62.501953 58.643337 \r\nL 63.519892 54.593027 \r\nL 64.537831 39.09619 \r\nL 65.555769 37.511286 \r\nL 66.573708 29.322616 \r\nL 68.609585 17.083636 \r\nL 69.627524 28.970415 \r\nL 70.645462 39.44839 \r\nL 71.663401 35.22198 \r\nL 72.681339 35.838332 \r\nL 73.699278 24.479854 \r\nL 74.717216 25.448407 \r\nL 75.735155 27.561612 \r\nL 76.753094 20.341494 \r\nL 77.771032 29.058465 \r\nL 78.788971 56.882332 \r\nL 79.806909 75.813128 \r\nL 80.824848 76.957781 \r\nL 81.842787 78.454635 \r\nL 82.860725 74.140174 \r\nL 83.878664 72.203069 \r\nL 84.896602 79.687338 \r\nL 85.914541 74.404325 \r\nL 86.932479 59.435789 \r\nL 87.950418 63.221948 \r\nL 88.968357 49.045864 \r\nL 89.986295 44.027001 \r\nL 91.004234 42.001847 \r\nL 92.022172 38.479838 \r\nL 93.040111 42.530148 \r\nL 94.05805 44.115052 \r\nL 95.075988 42.354047 \r\nL 96.093927 30.81947 \r\nL 97.111865 32.580474 \r\nL 98.129804 40.240842 \r\nL 99.147742 43.41065 \r\nL 100.165681 47.020709 \r\nL 101.18362 47.63706 \r\nL 102.201558 56.177931 \r\nL 103.219497 53.536424 \r\nL 104.237435 51.86347 \r\nL 105.255374 50.630767 \r\nL 106.273313 48.605612 \r\nL 107.291251 53.712525 \r\nL 108.30919 56.970383 \r\nL 109.327128 57.146483 \r\nL 110.345067 52.039571 \r\nL 111.363005 56.706232 \r\nL 112.380944 65.335153 \r\nL 113.398883 69.385463 \r\nL 114.416821 79.335137 \r\nL 115.43476 85.762802 \r\nL 116.452698 118.16528 \r\nL 117.470637 118.429431 \r\nL 118.488576 109.53636 \r\nL 119.506514 113.93887 \r\nL 120.524453 120.806787 \r\nL 121.542391 101.787941 \r\nL 122.56033 106.630703 \r\nL 123.578268 107.687305 \r\nL 124.596207 107.070954 \r\nL 125.614146 105.48605 \r\nL 126.632084 104.253347 \r\nL 127.650023 103.196744 \r\nL 128.667961 103.548945 \r\nL 129.6859 118.869682 \r\nL 130.703839 106.630703 \r\nL 131.721777 109.88856 \r\nL 132.739716 122.21559 \r\nL 133.757654 122.567791 \r\nL 134.775593 117.90113 \r\nL 135.793531 115.435724 \r\nL 136.81147 118.693582 \r\nL 137.829409 123.272193 \r\nL 138.847347 119.926285 \r\nL 139.865286 121.335088 \r\nL 140.883224 122.479741 \r\nL 141.901163 124.328795 \r\nL 142.919102 123.712444 \r\nL 143.93704 94.127572 \r\nL 144.954979 105.133849 \r\nL 145.972917 110.416862 \r\nL 146.990856 116.492326 \r\nL 148.008794 117.020628 \r\nL 149.026733 118.517481 \r\nL 150.044672 130.844511 \r\nL 152.080549 121.335088 \r\nL 153.098487 113.586669 \r\nL 154.116426 114.643272 \r\nL 157.170242 133.662118 \r\nL 158.18818 130.844511 \r\nL 159.206119 131.196712 \r\nL 160.224057 128.026904 \r\nL 161.241996 127.058352 \r\nL 162.259935 120.102385 \r\nL 163.277873 127.146402 \r\nL 164.295812 125.297348 \r\nL 165.31375 103.020644 \r\nL 166.331689 103.636995 \r\nL 167.349628 104.869698 \r\nL 168.367566 97.737631 \r\nL 169.385505 104.869698 \r\nL 170.403443 103.636995 \r\nL 171.421382 112.001766 \r\nL 172.43932 115.259623 \r\nL 173.457259 137.448277 \r\nL 174.475198 144.932545 \r\nL 175.493136 147.309901 \r\nL 176.511075 148.366503 \r\nL 177.529013 149.863357 \r\nL 178.546952 144.668394 \r\nL 179.564891 157.435675 \r\nL 180.582829 155.762721 \r\nL 181.600768 135.775323 \r\nL 182.618706 137.800478 \r\nL 184.654583 131.196712 \r\nL 185.672522 137.800478 \r\nL 186.690461 151.712411 \r\nL 187.708399 161.838186 \r\nL 188.726338 164.479692 \r\nL 189.744276 169.058303 \r\nL 190.762215 168.794153 \r\nL 191.780154 174.077165 \r\nL 192.798092 169.498554 \r\nL 193.816031 170.819308 \r\nL 194.833969 168.882203 \r\nL 195.851908 170.114906 \r\nL 196.869846 173.372764 \r\nL 197.887785 186.580296 \r\nL 198.905724 189.221802 \r\nL 199.923662 174.429366 \r\nL 201.959539 196.70607 \r\nL 202.977478 198.995376 \r\nL 203.995417 199.347576 \r\nL 205.013355 210.882154 \r\nL 206.031294 207.360146 \r\nL 207.049232 201.108581 \r\nL 208.067171 190.630605 \r\nL 209.085109 183.322438 \r\nL 210.103048 188.25325 \r\nL 211.120987 170.731257 \r\nL 212.138925 164.743843 \r\nL 213.156864 185.963944 \r\nL 214.174802 181.825584 \r\nL 215.192741 181.737534 \r\nL 216.21068 184.37904 \r\nL 217.228618 190.718656 \r\nL 218.246557 195.825568 \r\nL 219.264495 193.096011 \r\nL 220.282434 195.297267 \r\nL 221.300372 193.624313 \r\nL 222.318311 203.221786 \r\nL 223.33625 187.812999 \r\nL 224.354188 175.92622 \r\nL 225.372127 170.731257 \r\nL 226.390065 171.171508 \r\nL 227.408004 159.724981 \r\nL 228.425943 164.655793 \r\nL 229.443881 161.926236 \r\nL 230.46182 162.630638 \r\nL 232.497697 173.901065 \r\nL 233.515635 184.907342 \r\nL 234.533574 185.787844 \r\nL 235.551513 179.624329 \r\nL 236.569451 175.92622 \r\nL 237.58739 167.385349 \r\nL 238.605328 165.536295 \r\nL 239.623267 157.963977 \r\nL 240.641206 170.026856 \r\nL 241.659144 170.555157 \r\nL 242.677083 184.20294 \r\nL 243.695021 182.089735 \r\nL 244.71296 177.511124 \r\nL 245.730898 177.863325 \r\nL 246.748837 171.69981 \r\nL 247.766776 157.875926 \r\nL 248.784714 189.574003 \r\nL 249.802653 204.190338 \r\nL 250.820591 202.429334 \r\nL 251.83853 207.007945 \r\nL 252.856469 214.756364 \r\nL 253.874407 209.0331 \r\nL 254.892346 204.630589 \r\nL 255.910284 189.838153 \r\nL 256.928223 187.724948 \r\nL 257.946161 184.20294 \r\nL 259.982039 194.768965 \r\nL 260.999977 197.234371 \r\nL 262.017916 191.687208 \r\nL 264.053793 191.951359 \r\nL 265.071732 205.951342 \r\nL 266.08967 205.863292 \r\nL 267.107609 209.0331 \r\nL 268.125547 203.485936 \r\nL 269.143486 202.341284 \r\nL 270.161424 177.687224 \r\nL 271.179363 172.932513 \r\nL 272.197302 169.410504 \r\nL 273.21524 166.592897 \r\nL 274.233179 167.913651 \r\nL 275.251117 169.498554 \r\nL 276.269056 169.498554 \r\nL 277.286995 179.184078 \r\nL 278.304933 198.026823 \r\nL 279.322872 195.825568 \r\nL 280.34081 198.202924 \r\nL 281.358749 204.80669 \r\nL 282.376687 198.202924 \r\nL 283.394626 187.901049 \r\nL 284.412565 187.020547 \r\nL 286.448442 169.410504 \r\nL 287.46638 160.869634 \r\nL 288.484319 160.341332 \r\nL 289.502258 156.467123 \r\nL 290.520196 160.693533 \r\nL 291.538135 159.28473 \r\nL 292.556073 156.995424 \r\nL 293.574012 156.291022 \r\nL 294.59195 151.27216 \r\nL 295.609889 156.643223 \r\nL 296.627828 158.668378 \r\nL 297.645766 164.919943 \r\nL 298.663705 160.781583 \r\nL 299.681643 166.064596 \r\nL 300.699582 148.894805 \r\nL 301.717521 149.070905 \r\nL 302.735459 150.831909 \r\nL 303.753398 153.913667 \r\nL 304.771336 151.800462 \r\nL 305.789275 153.561466 \r\nL 306.807213 160.781583 \r\nL 307.825152 166.768998 \r\nL 308.843091 172.052011 \r\nL 309.861029 175.574019 \r\nL 310.878968 169.322454 \r\nL 311.896906 177.511124 \r\nL 312.914845 173.724965 \r\nL 313.932784 180.768982 \r\nL 315.968661 201.372731 \r\nL 316.986599 205.246941 \r\nL 318.004538 209.561401 \r\nL 319.022476 212.026807 \r\nL 320.040415 211.762656 \r\nL 321.058354 211.058255 \r\nL 322.076292 199.083426 \r\nL 323.094231 196.089719 \r\nL 324.112169 186.668346 \r\nL 325.130108 190.102304 \r\nL 326.148047 193.007961 \r\nL 327.165985 198.467074 \r\nL 328.183924 188.165199 \r\nL 329.201862 185.523693 \r\nL 330.219801 185.259542 \r\nL 331.237739 185.699793 \r\nL 332.255678 174.869617 \r\nL 333.273617 178.743827 \r\nL 334.291555 179.536279 \r\nL 335.309494 178.215525 \r\nL 336.327432 187.108597 \r\nL 337.345371 185.963944 \r\nL 338.36331 193.448212 \r\nL 339.381248 194.504815 \r\nL 340.399187 206.743794 \r\nL 341.417125 206.127443 \r\nL 342.435064 203.926187 \r\nL 343.453002 204.278388 \r\nL 344.470941 203.397886 \r\nL 345.48888 201.372731 \r\nL 346.506818 202.869585 \r\nL 346.506818 202.869585 \r\n\" style=\"fill:none;stroke:#1f77b4;stroke-linecap:square;stroke-width:1.5;\"/>\r\n   </g>\r\n   <g id=\"line2d_26\">\r\n    <path clip-path=\"url(#p850ade11f0)\" d=\"M 42.143182 145.441515 \r\nL 44.179059 152.475819 \r\nL 45.196998 163.768807 \r\nL 46.214936 176.978152 \r\nL 47.232875 176.545533 \r\nL 48.250813 166.367279 \r\nL 49.268752 165.124169 \r\nL 51.304629 150.051603 \r\nL 52.322568 154.994351 \r\nL 53.340506 168.675346 \r\nL 55.376383 160.277686 \r\nL 56.394322 150.384734 \r\nL 57.412261 131.977703 \r\nL 58.430199 109.413627 \r\nL 59.448138 92.209871 \r\nL 60.466076 78.454242 \r\nL 61.484015 70.349205 \r\nL 62.501953 74.106548 \r\nL 63.519892 75.200458 \r\nL 64.537831 75.57544 \r\nL 65.555769 68.783646 \r\nL 66.573708 56.703948 \r\nL 67.591646 41.813431 \r\nL 69.627524 26.688937 \r\nL 70.645462 24.150117 \r\nL 71.663401 23.583547 \r\nL 72.681339 24.473171 \r\nL 73.699278 27.34539 \r\nL 74.717216 29.650233 \r\nL 75.735155 29.285529 \r\nL 76.753094 26.593344 \r\nL 77.771032 23.445968 \r\nL 78.788971 21.807522 \r\nL 79.806909 27.414516 \r\nL 80.824848 36.453178 \r\nL 81.842787 46.511386 \r\nL 82.860725 59.644822 \r\nL 83.878664 70.223719 \r\nL 84.896602 73.971254 \r\nL 85.914541 74.609368 \r\nL 86.932479 73.971321 \r\nL 87.950418 70.508213 \r\nL 88.968357 68.524611 \r\nL 89.986295 63.859976 \r\nL 92.022172 49.603408 \r\nL 94.05805 40.365969 \r\nL 95.075988 39.024713 \r\nL 96.093927 38.605126 \r\nL 97.111865 36.724439 \r\nL 99.147742 34.974344 \r\nL 100.165681 34.247892 \r\nL 101.18362 34.912609 \r\nL 102.201558 38.534993 \r\nL 103.219497 43.416274 \r\nL 104.237435 46.205664 \r\nL 105.255374 48.242201 \r\nL 106.273313 49.264635 \r\nL 107.291251 49.632832 \r\nL 108.30919 48.914777 \r\nL 109.327128 49.330132 \r\nL 110.345067 50.324083 \r\nL 111.363005 50.885279 \r\nL 113.398883 54.795987 \r\nL 114.416821 56.987435 \r\nL 115.43476 61.333853 \r\nL 116.452698 68.313138 \r\nL 118.488576 91.269662 \r\nL 119.506514 100.687069 \r\nL 121.542391 116.343 \r\nL 122.56033 113.203753 \r\nL 123.578268 110.998332 \r\nL 124.596207 110.48154 \r\nL 125.614146 108.763085 \r\nL 126.632084 105.459724 \r\nL 127.650023 106.13445 \r\nL 128.667961 105.452335 \r\nL 129.6859 104.534227 \r\nL 130.703839 106.477993 \r\nL 131.721777 106.748515 \r\nL 132.739716 108.239978 \r\nL 134.775593 115.73216 \r\nL 135.793531 115.704617 \r\nL 136.81147 118.043585 \r\nL 137.829409 119.959943 \r\nL 138.847347 119.856558 \r\nL 139.865286 119.238328 \r\nL 140.883224 120.069374 \r\nL 141.901163 121.591336 \r\nL 142.919102 122.69801 \r\nL 143.93704 122.774188 \r\nL 144.954979 118.324184 \r\nL 146.990856 111.972533 \r\nL 148.008794 109.507406 \r\nL 149.026733 107.851359 \r\nL 151.06261 118.489305 \r\nL 152.080549 121.815707 \r\nL 153.098487 123.246107 \r\nL 154.116426 123.085218 \r\nL 155.134365 122.385368 \r\nL 156.152303 119.845003 \r\nL 157.170242 119.457526 \r\nL 158.18818 121.707485 \r\nL 160.224057 129.299827 \r\nL 161.241996 131.071755 \r\nL 162.259935 131.241914 \r\nL 163.277873 128.571629 \r\nL 164.295812 127.639616 \r\nL 165.31375 126.193094 \r\nL 167.349628 117.099816 \r\nL 168.367566 113.651487 \r\nL 169.385505 107.168707 \r\nL 170.403443 102.528323 \r\nL 171.421382 102.509782 \r\nL 172.43932 103.973904 \r\nL 173.457259 105.933927 \r\nL 175.493136 121.650317 \r\nL 176.511075 131.03118 \r\nL 178.546952 146.771485 \r\nL 179.564891 148.544286 \r\nL 180.582829 150.90072 \r\nL 181.600768 152.462854 \r\nL 183.636645 148.496657 \r\nL 184.654583 146.34424 \r\nL 185.672522 140.665232 \r\nL 186.690461 136.58282 \r\nL 187.708399 139.279505 \r\nL 188.726338 143.680471 \r\nL 189.744276 149.864851 \r\nL 190.762215 157.985406 \r\nL 191.780154 164.674823 \r\nL 192.798092 169.297674 \r\nL 193.816031 171.020159 \r\nL 194.833969 172.439071 \r\nL 195.851908 172.484415 \r\nL 196.869846 172.722155 \r\nL 197.887785 172.427516 \r\nL 198.905724 175.439665 \r\nL 199.923662 178.919298 \r\nL 200.941601 180.655219 \r\nL 201.959539 184.060017 \r\nL 202.977478 188.240642 \r\nL 205.013355 192.560189 \r\nL 206.031294 199.746312 \r\nL 207.049232 203.978932 \r\nL 208.067171 205.214048 \r\nL 209.085109 204.107509 \r\nL 210.103048 201.242276 \r\nL 211.120987 196.511136 \r\nL 213.156864 182.362723 \r\nL 214.174802 180.741877 \r\nL 215.192741 179.897059 \r\nL 216.21068 178.630169 \r\nL 217.228618 181.601675 \r\nL 218.246557 186.700542 \r\nL 219.264495 188.42464 \r\nL 220.282434 190.796054 \r\nL 221.300372 193.659809 \r\nL 222.318311 195.617145 \r\nL 223.33625 197.849973 \r\nL 224.354188 196.571998 \r\nL 225.372127 193.80612 \r\nL 227.408004 184.43997 \r\nL 228.425943 175.634411 \r\nL 229.443881 170.788465 \r\nL 230.46182 167.774973 \r\nL 231.479758 165.987595 \r\nL 232.497697 165.174216 \r\nL 233.515635 167.815212 \r\nL 234.533574 171.571144 \r\nL 235.551513 176.392906 \r\nL 236.569451 180.282857 \r\nL 237.58739 182.289232 \r\nL 238.605328 181.309657 \r\nL 239.623267 177.435359 \r\nL 240.641206 171.832261 \r\nL 241.659144 169.439619 \r\nL 242.677083 167.9452 \r\nL 243.695021 170.928596 \r\nL 244.71296 174.302896 \r\nL 245.730898 178.712662 \r\nL 246.748837 180.586765 \r\nL 247.766776 181.012399 \r\nL 248.784714 176.08584 \r\nL 249.802653 176.786496 \r\nL 250.820591 180.971488 \r\nL 251.83853 185.769335 \r\nL 252.856469 193.333194 \r\nL 253.874407 204.799902 \r\nL 254.892346 208.779534 \r\nL 255.910284 209.213161 \r\nL 256.928223 207.317897 \r\nL 257.946161 203.700618 \r\nL 258.9641 197.55997 \r\nL 259.982039 193.300815 \r\nL 260.999977 190.943037 \r\nL 262.017916 192.247413 \r\nL 263.035854 193.285029 \r\nL 264.053793 195.023569 \r\nL 265.071732 195.523836 \r\nL 266.08967 197.252434 \r\nL 267.107609 198.72361 \r\nL 268.125547 202.20378 \r\nL 269.143486 204.854987 \r\nL 270.161424 207.117911 \r\nL 271.179363 202.269748 \r\nL 272.197302 196.146365 \r\nL 274.233179 180.374016 \r\nL 275.251117 173.130322 \r\nL 276.269056 171.263944 \r\nL 277.286995 170.471793 \r\nL 278.304933 172.19018 \r\nL 281.358749 189.51378 \r\nL 282.376687 196.707561 \r\nL 283.394626 200.691559 \r\nL 285.430503 197.65563 \r\nL 286.448442 193.696958 \r\nL 288.484319 179.459737 \r\nL 289.502258 173.764204 \r\nL 290.520196 167.353975 \r\nL 291.538135 163.56647 \r\nL 292.556073 161.332902 \r\nL 294.59195 159.850508 \r\nL 296.627828 157.954437 \r\nL 297.645766 157.585904 \r\nL 298.663705 158.949933 \r\nL 299.681643 159.970822 \r\nL 300.699582 163.083198 \r\nL 301.717521 162.008904 \r\nL 302.735459 160.346811 \r\nL 303.753398 157.265739 \r\nL 304.771336 155.451356 \r\nL 305.789275 152.375591 \r\nL 306.807213 153.394531 \r\nL 307.825152 155.620104 \r\nL 308.843091 158.610286 \r\nL 309.861029 162.171069 \r\nL 310.878968 167.075325 \r\nL 312.914845 174.124944 \r\nL 314.950722 177.185192 \r\nL 315.968661 179.955974 \r\nL 319.022476 198.781919 \r\nL 320.040415 205.096757 \r\nL 321.058354 209.291288 \r\nL 322.076292 211.316539 \r\nL 323.094231 210.526337 \r\nL 324.112169 208.146458 \r\nL 326.148047 198.895381 \r\nL 327.165985 194.98024 \r\nL 328.183924 194.51739 \r\nL 329.201862 193.187017 \r\nL 330.219801 193.316266 \r\nL 331.237739 192.397688 \r\nL 332.255678 190.76569 \r\nL 333.273617 186.236215 \r\nL 334.291555 184.374204 \r\nL 336.327432 181.43998 \r\nL 337.345371 181.475987 \r\nL 338.36331 183.639959 \r\nL 340.399187 189.456881 \r\nL 341.417125 194.892036 \r\nL 343.453002 202.448909 \r\nL 344.470941 204.799566 \r\nL 345.48888 206.602596 \r\nL 346.506818 205.587149 \r\nL 346.506818 205.587149 \r\n\" style=\"fill:none;stroke:#ff7f0e;stroke-linecap:square;stroke-width:1.5;\"/>\r\n   </g>\r\n   <g id=\"patch_3\">\r\n    <path d=\"M 26.925 224.64 \r\nL 26.925 7.2 \r\n\" style=\"fill:none;stroke:#000000;stroke-linecap:square;stroke-linejoin:miter;stroke-width:0.8;\"/>\r\n   </g>\r\n   <g id=\"patch_4\">\r\n    <path d=\"M 361.725 224.64 \r\nL 361.725 7.2 \r\n\" style=\"fill:none;stroke:#000000;stroke-linecap:square;stroke-linejoin:miter;stroke-width:0.8;\"/>\r\n   </g>\r\n   <g id=\"patch_5\">\r\n    <path d=\"M 26.925 224.64 \r\nL 361.725 224.64 \r\n\" style=\"fill:none;stroke:#000000;stroke-linecap:square;stroke-linejoin:miter;stroke-width:0.8;\"/>\r\n   </g>\r\n   <g id=\"patch_6\">\r\n    <path d=\"M 26.925 7.2 \r\nL 361.725 7.2 \r\n\" style=\"fill:none;stroke:#000000;stroke-linecap:square;stroke-linejoin:miter;stroke-width:0.8;\"/>\r\n   </g>\r\n  </g>\r\n </g>\r\n <defs>\r\n  <clipPath id=\"p850ade11f0\">\r\n   <rect height=\"217.44\" width=\"334.8\" x=\"26.925\" y=\"7.2\"/>\r\n  </clipPath>\r\n </defs>\r\n</svg>\r\n",
      "image/png": "[encoded data removed]"
     },
     "metadata": {
      "needs_background": "light"
     }
    }
   ],
   "source": [
    "predictions = model.predict(train_features)\n",
    "unorm = np.reshape(scaler.inverse_transform(predictions), -1)\n",
    "plt.plot(dHigh_serie.values[5:305])\n",
    "plt.grid(True)\n",
    "plt.plot(unorm[:300])\n",
    "plt.show()"
   ]
  },
  {
   "cell_type": "code",
   "execution_count": 157,
   "metadata": {},
   "outputs": [
    {
     "output_type": "error",
     "ename": "AttributeError",
     "evalue": "'numpy.ndarray' object has no attribute 'values'",
     "traceback": [
      "\u001b[1;31m---------------------------------------------------------------------------\u001b[0m",
      "\u001b[1;31mAttributeError\u001b[0m                            Traceback (most recent call last)",
      "\u001b[1;32m<ipython-input-157-e5d6a2c46623>\u001b[0m in \u001b[0;36m<module>\u001b[1;34m\u001b[0m\n\u001b[0;32m     12\u001b[0m \u001b[0mscaler\u001b[0m \u001b[1;33m=\u001b[0m \u001b[0mmin_max_scaler\u001b[0m\u001b[1;33m.\u001b[0m\u001b[0mfit\u001b[0m\u001b[1;33m(\u001b[0m\u001b[0mtrain_values\u001b[0m\u001b[1;33m[\u001b[0m\u001b[1;33m:\u001b[0m\u001b[1;36m200\u001b[0m\u001b[1;33m]\u001b[0m\u001b[1;33m)\u001b[0m\u001b[1;33m\u001b[0m\u001b[1;33m\u001b[0m\u001b[0m\n\u001b[0;32m     13\u001b[0m \u001b[0mtrain_values\u001b[0m \u001b[1;33m=\u001b[0m \u001b[0mscaler\u001b[0m\u001b[1;33m.\u001b[0m\u001b[0mtransform\u001b[0m\u001b[1;33m(\u001b[0m\u001b[0mtrain_values\u001b[0m\u001b[1;33m)\u001b[0m\u001b[1;33m\u001b[0m\u001b[1;33m\u001b[0m\u001b[0m\n\u001b[1;32m---> 14\u001b[1;33m \u001b[0mtrain_values\u001b[0m \u001b[1;33m=\u001b[0m \u001b[0mscaler\u001b[0m\u001b[1;33m.\u001b[0m\u001b[0mtransform\u001b[0m\u001b[1;33m(\u001b[0m\u001b[0mtrain_values\u001b[0m\u001b[1;33m.\u001b[0m\u001b[0mvalues\u001b[0m\u001b[1;33m[\u001b[0m\u001b[1;36m200\u001b[0m\u001b[1;33m:\u001b[0m\u001b[1;33m]\u001b[0m\u001b[1;33m.\u001b[0m\u001b[0mreshape\u001b[0m\u001b[1;33m(\u001b[0m\u001b[1;33m-\u001b[0m\u001b[1;36m1\u001b[0m\u001b[1;33m,\u001b[0m \u001b[1;36m1\u001b[0m\u001b[1;33m)\u001b[0m\u001b[1;33m)\u001b[0m\u001b[1;33m\u001b[0m\u001b[1;33m\u001b[0m\u001b[0m\n\u001b[0m\u001b[0;32m     15\u001b[0m \u001b[0mtrain_features\u001b[0m\u001b[1;33m,\u001b[0m \u001b[0mtrain_labels\u001b[0m \u001b[1;33m=\u001b[0m \u001b[0mcreate_window\u001b[0m\u001b[1;33m(\u001b[0m\u001b[0mtrain_values\u001b[0m\u001b[1;33m,\u001b[0m \u001b[1;36m0\u001b[0m\u001b[1;33m,\u001b[0m \u001b[1;32mNone\u001b[0m\u001b[1;33m,\u001b[0m \u001b[1;36m5\u001b[0m\u001b[1;33m)\u001b[0m\u001b[1;33m\u001b[0m\u001b[1;33m\u001b[0m\u001b[0m\n\u001b[0;32m     16\u001b[0m \u001b[1;33m\u001b[0m\u001b[0m\n",
      "\u001b[1;31mAttributeError\u001b[0m: 'numpy.ndarray' object has no attribute 'values'"
     ]
    }
   ],
   "source": [
    "# extraire les données et créer les fenêtres\n",
    "dataframe = pd.read_csv('FDJ.csv', parse_dates=True)\n",
    "close_serie = dataframe['haut']\n",
    "train_values = close_serie.values.reshape(-1, 1)\n",
    "\n",
    "# dataframe=pd.read_csv('preprocessed_CAC40.csv',index_col='Date',parse_dates=True)\n",
    "# dataframe = data[data['Name'] == 'Saint-Gobain']\n",
    "# close_serie = dataframe['Daily_High']\n",
    "# train_values = close_serie.values.reshape(-1, 1)\n",
    "\n",
    "min_max_scaler = MinMaxScaler()\n",
    "scaler = min_max_scaler.fit(train_values[:200])\n",
    "train_values = scaler.transform(train_values)\n",
    "train_features, train_labels = create_window(train_values, 0, None, 5)\n",
    "\n",
    "# exécuter le modèle\n",
    "predictions = model.predict(train_features)\n",
    "unorm = np.reshape(scaler.inverse_transform(predictions), -1)\n",
    "plt.plot(close_serie.values[:2000])\n",
    "plt.grid(True)\n",
    "plt.plot(unorm[:3000])\n",
    "plt.show()"
   ]
  },
  {
   "cell_type": "code",
   "execution_count": null,
   "metadata": {},
   "outputs": [],
   "source": []
  }
 ]
}